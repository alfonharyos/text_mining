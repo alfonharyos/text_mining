{
  "nbformat": 4,
  "nbformat_minor": 0,
  "metadata": {
    "colab": {
      "provenance": [],
      "collapsed_sections": [
        "Ju7al_1rRW8n",
        "tLPjSlKTsJ9a",
        "jMOd0pBzn_27",
        "b3CKAYeDfWfn",
        "HLaJBI-5uJub",
        "a6vqByq_eJ84",
        "PfaY4ZZYehY1",
        "wXbcQOZYg9R4",
        "yBkD56oih-xC"
      ],
      "authorship_tag": "ABX9TyOrZJaufOd4OayTbt/xmrq4",
      "include_colab_link": true
    },
    "kernelspec": {
      "name": "python3",
      "display_name": "Python 3"
    }
  },
  "cells": [
    {
      "cell_type": "markdown",
      "metadata": {
        "id": "view-in-github",
        "colab_type": "text"
      },
      "source": [
        "<a href=\"https://colab.research.google.com/github/alfonharyos/text_mining/blob/main/text_mining_review_app.ipynb\" target=\"_parent\"><img src=\"https://colab.research.google.com/assets/colab-badge.svg\" alt=\"Open In Colab\"/></a>"
      ]
    },
    {
      "cell_type": "markdown",
      "source": [
        "# text process"
      ],
      "metadata": {
        "id": "XpwtSmOJT4y5"
      }
    },
    {
      "cell_type": "markdown",
      "source": [
        "## intro"
      ],
      "metadata": {
        "id": "Ju7al_1rRW8n"
      }
    },
    {
      "cell_type": "code",
      "source": [
        "x = \"Hello World\""
      ],
      "metadata": {
        "id": "DEIh7z3wTyKY"
      },
      "execution_count": null,
      "outputs": []
    },
    {
      "cell_type": "code",
      "metadata": {
        "id": "yb-QzdHQzXfV",
        "colab": {
          "base_uri": "https://localhost:8080/"
        },
        "outputId": "2b4077e9-418b-4f4d-a51c-b190b1729cb5"
      },
      "source": [
        "type(x)"
      ],
      "execution_count": null,
      "outputs": [
        {
          "output_type": "execute_result",
          "data": {
            "text/plain": [
              "str"
            ]
          },
          "metadata": {},
          "execution_count": 23
        }
      ]
    },
    {
      "cell_type": "code",
      "source": [
        "# H-e-l-l-o- -W-o-r-l-d\n",
        "# 0-1-2-3-4-5-6-7-8-9-10"
      ],
      "metadata": {
        "id": "KyJF4qtC_cTR"
      },
      "execution_count": null,
      "outputs": []
    },
    {
      "cell_type": "code",
      "source": [
        "# mengambil index-ke\n",
        "x[0], x[5], x[-1]"
      ],
      "metadata": {
        "colab": {
          "base_uri": "https://localhost:8080/"
        },
        "id": "SJ4mgPLjU6Tg",
        "outputId": "447b48b2-b269-4031-c35b-b28150a20557"
      },
      "execution_count": null,
      "outputs": [
        {
          "output_type": "execute_result",
          "data": {
            "text/plain": [
              "('H', ' ', 'd')"
            ]
          },
          "metadata": {},
          "execution_count": 25
        }
      ]
    },
    {
      "cell_type": "code",
      "source": [
        "x[:], x[:4], x[:5], x[6:]"
      ],
      "metadata": {
        "colab": {
          "base_uri": "https://localhost:8080/"
        },
        "id": "cC5kxbSeU9Vc",
        "outputId": "69a1a07a-5306-4f85-af9e-1b4f5ee9b0f6"
      },
      "execution_count": null,
      "outputs": [
        {
          "output_type": "execute_result",
          "data": {
            "text/plain": [
              "('Hello World', 'Hell', 'Hello', 'World')"
            ]
          },
          "metadata": {},
          "execution_count": 26
        }
      ]
    },
    {
      "cell_type": "code",
      "source": [
        "x.lower(), x.upper(), x.capitalize()"
      ],
      "metadata": {
        "colab": {
          "base_uri": "https://localhost:8080/"
        },
        "id": "VmfFmu_cVFYe",
        "outputId": "a3c1b8a0-27c1-4f7f-950a-b111698631a6"
      },
      "execution_count": null,
      "outputs": [
        {
          "output_type": "execute_result",
          "data": {
            "text/plain": [
              "('hello world', 'HELLO WORLD', 'Hello world')"
            ]
          },
          "metadata": {},
          "execution_count": 27
        }
      ]
    },
    {
      "cell_type": "code",
      "source": [
        "# menghilangkan whitesapce\n",
        "x = \" Hello \"\n",
        "x.strip()"
      ],
      "metadata": {
        "colab": {
          "base_uri": "https://localhost:8080/"
        },
        "id": "XugKJVjYAlqG",
        "outputId": "f69f7a6e-9a1a-4e7a-f285-55386eea7e0b"
      },
      "execution_count": null,
      "outputs": [
        {
          "output_type": "execute_result",
          "data": {
            "text/plain": [
              "'Hello'"
            ],
            "application/vnd.google.colaboratory.intrinsic+json": {
              "type": "string"
            }
          },
          "metadata": {},
          "execution_count": 28
        }
      ]
    },
    {
      "cell_type": "markdown",
      "source": [
        "### instal library"
      ],
      "metadata": {
        "id": "NvpnG5FiWf0z"
      }
    },
    {
      "cell_type": "markdown",
      "source": [
        "**NLTK**\n",
        "\n",
        "Natural Language Tool Kit, sebuah library yang digunakan untuk memudahkan dalam melakukan pengolahan terhadap bahasa.\n",
        "\n",
        "www.nltk.org"
      ],
      "metadata": {
        "id": "mFD4APSkWkhg"
      }
    },
    {
      "cell_type": "code",
      "source": [
        "# install nltk\n",
        "%pip install nltk"
      ],
      "metadata": {
        "colab": {
          "base_uri": "https://localhost:8080/"
        },
        "id": "34It99SauI-e",
        "outputId": "0e3d22e5-de67-4d97-f5e9-6d29d0dda821"
      },
      "execution_count": null,
      "outputs": [
        {
          "output_type": "stream",
          "name": "stdout",
          "text": [
            "Looking in indexes: https://pypi.org/simple, https://us-python.pkg.dev/colab-wheels/public/simple/\n",
            "Requirement already satisfied: nltk in /usr/local/lib/python3.7/dist-packages (3.7)\n",
            "Requirement already satisfied: joblib in /usr/local/lib/python3.7/dist-packages (from nltk) (1.1.0)\n",
            "Requirement already satisfied: tqdm in /usr/local/lib/python3.7/dist-packages (from nltk) (4.64.1)\n",
            "Requirement already satisfied: regex>=2021.8.3 in /usr/local/lib/python3.7/dist-packages (from nltk) (2022.6.2)\n",
            "Requirement already satisfied: click in /usr/local/lib/python3.7/dist-packages (from nltk) (7.1.2)\n"
          ]
        }
      ]
    },
    {
      "cell_type": "code",
      "source": [
        "# download nltk punkt\n",
        "import nltk\n",
        "nltk.download('punkt')"
      ],
      "metadata": {
        "colab": {
          "base_uri": "https://localhost:8080/"
        },
        "id": "dFUYzXaSbNNK",
        "outputId": "32503bb0-aba5-4198-9da3-76946147e948"
      },
      "execution_count": null,
      "outputs": [
        {
          "output_type": "stream",
          "name": "stderr",
          "text": [
            "[nltk_data] Downloading package punkt to /root/nltk_data...\n",
            "[nltk_data]   Unzipping tokenizers/punkt.zip.\n"
          ]
        },
        {
          "output_type": "execute_result",
          "data": {
            "text/plain": [
              "True"
            ]
          },
          "metadata": {},
          "execution_count": 30
        }
      ]
    },
    {
      "cell_type": "markdown",
      "source": [
        "**Sastrawi**\n",
        "\n",
        "Sastrawi adalah library NLP yang dikhususkan untuk bahasa indonesia.\n",
        "\n",
        "Kelebihan sastrawi dari NLTK adalah stemming dalam bahasa Indonesia.\n",
        "\n",
        "https://github.com/har07/pystastrawi-demo/tree/master/templates\n",
        "\n",
        "https://github.com/sastrawi/sastrawi"
      ],
      "metadata": {
        "id": "fh-9h_E7WmcN"
      }
    },
    {
      "cell_type": "code",
      "source": [
        "# install sastrawi\n",
        "%pip install Sastrawi"
      ],
      "metadata": {
        "colab": {
          "base_uri": "https://localhost:8080/"
        },
        "id": "A9MN-9cqXGAS",
        "outputId": "1b5d00b8-5083-49a3-db54-97170c6771d5"
      },
      "execution_count": null,
      "outputs": [
        {
          "output_type": "stream",
          "name": "stdout",
          "text": [
            "Looking in indexes: https://pypi.org/simple, https://us-python.pkg.dev/colab-wheels/public/simple/\n",
            "Collecting Sastrawi\n",
            "  Downloading Sastrawi-1.0.1-py2.py3-none-any.whl (209 kB)\n",
            "\u001b[K     |████████████████████████████████| 209 kB 5.1 MB/s \n",
            "\u001b[?25hInstalling collected packages: Sastrawi\n",
            "Successfully installed Sastrawi-1.0.1\n"
          ]
        }
      ]
    },
    {
      "cell_type": "markdown",
      "source": [
        "## preprocess"
      ],
      "metadata": {
        "id": "6b-RW5q5kgy1"
      }
    },
    {
      "cell_type": "code",
      "source": [
        "s = \"Coronavirus Disease (COVID-19)\""
      ],
      "metadata": {
        "id": "76EoGgL-fVq6"
      },
      "execution_count": null,
      "outputs": []
    },
    {
      "cell_type": "markdown",
      "source": [
        "### remove punctuation and numbers"
      ],
      "metadata": {
        "id": "K2pX_xjKSMHZ"
      }
    },
    {
      "cell_type": "markdown",
      "source": [
        "#### string"
      ],
      "metadata": {
        "id": "tLPjSlKTsJ9a"
      }
    },
    {
      "cell_type": "code",
      "source": [
        "import string"
      ],
      "metadata": {
        "id": "pk3Txu-4s0r7"
      },
      "execution_count": null,
      "outputs": []
    },
    {
      "cell_type": "code",
      "source": [
        "print(string.punctuation)"
      ],
      "metadata": {
        "colab": {
          "base_uri": "https://localhost:8080/"
        },
        "id": "JhQv8SLftK6t",
        "outputId": "0ac62dce-71a7-4766-9179-c060b9db08a7"
      },
      "execution_count": null,
      "outputs": [
        {
          "output_type": "stream",
          "name": "stdout",
          "text": [
            "!\"#$%&'()*+,-./:;<=>?@[\\]^_`{|}~\n"
          ]
        }
      ]
    },
    {
      "cell_type": "code",
      "source": [
        "s.translate(str.maketrans('', '', string.punctuation)) # menghapus tanda baca"
      ],
      "metadata": {
        "colab": {
          "base_uri": "https://localhost:8080/"
        },
        "id": "ii-80LKWkD2G",
        "outputId": "5643e0b1-2fea-4386-89d5-19d002ec032a"
      },
      "execution_count": null,
      "outputs": [
        {
          "output_type": "execute_result",
          "data": {
            "text/plain": [
              "'Coronavirus Disease COVID19'"
            ],
            "application/vnd.google.colaboratory.intrinsic+json": {
              "type": "string"
            }
          },
          "metadata": {},
          "execution_count": 35
        }
      ]
    },
    {
      "cell_type": "code",
      "source": [
        "print(string.digits)"
      ],
      "metadata": {
        "colab": {
          "base_uri": "https://localhost:8080/"
        },
        "id": "7CqrS1z-ttcD",
        "outputId": "f553842e-a14d-44e5-f15f-7cf13cfad7ab"
      },
      "execution_count": null,
      "outputs": [
        {
          "output_type": "stream",
          "name": "stdout",
          "text": [
            "0123456789\n"
          ]
        }
      ]
    },
    {
      "cell_type": "code",
      "source": [
        "s.translate(str.maketrans('', '', string.digits))  # menghapus angka"
      ],
      "metadata": {
        "colab": {
          "base_uri": "https://localhost:8080/"
        },
        "id": "vaPHu-0dtyOe",
        "outputId": "fa4866b7-f8ab-4b09-d430-2f46723968de"
      },
      "execution_count": null,
      "outputs": [
        {
          "output_type": "execute_result",
          "data": {
            "text/plain": [
              "'Coronavirus Disease (COVID-)'"
            ],
            "application/vnd.google.colaboratory.intrinsic+json": {
              "type": "string"
            }
          },
          "metadata": {},
          "execution_count": 37
        }
      ]
    },
    {
      "cell_type": "markdown",
      "source": [
        "#### regex"
      ],
      "metadata": {
        "id": "jMOd0pBzn_27"
      }
    },
    {
      "cell_type": "markdown",
      "source": [
        "Regex -- Regular Expresion.\n",
        "\n",
        "Regex merupakan sebuah teks (string) yang mendefinisikan sebuah pola pencarian sehingga dapat membantu dalam melakukan matching (pencocokan), locate (pencarian), dan manipulasi teks.\n",
        "\n",
        "Konsep regex muncul di tahun 1951, ketika seorang ilmuan matematika bernama Stephen Cole Kleene memformulasikan definisi tentang bahasa formal.\n",
        "\n",
        "docs https://docs.python.org/3/library/re.html\n",
        "\n",
        "tester https://regex101.com/"
      ],
      "metadata": {
        "id": "2DvuAJN1ZdTg"
      }
    },
    {
      "cell_type": "code",
      "source": [
        "# import regex\n",
        "import re"
      ],
      "metadata": {
        "id": "MAOJMh1JjuMz"
      },
      "execution_count": null,
      "outputs": []
    },
    {
      "cell_type": "code",
      "source": [
        "re.sub(r'\\d', '', s) # menghilangkan angka"
      ],
      "metadata": {
        "colab": {
          "base_uri": "https://localhost:8080/"
        },
        "id": "i8XLAPvxoFI7",
        "outputId": "225869eb-1d77-4235-9463-33ab79b0eed6"
      },
      "execution_count": null,
      "outputs": [
        {
          "output_type": "execute_result",
          "data": {
            "text/plain": [
              "'Coronavirus Disease (COVID-)'"
            ],
            "application/vnd.google.colaboratory.intrinsic+json": {
              "type": "string"
            }
          },
          "metadata": {},
          "execution_count": 39
        }
      ]
    },
    {
      "cell_type": "code",
      "source": [
        "re.sub(r'[^\\w\\s]', '', s) # menghilangkan yg bukan angka, huruf, dan spasi"
      ],
      "metadata": {
        "colab": {
          "base_uri": "https://localhost:8080/"
        },
        "id": "u9Vj7SrVqHXV",
        "outputId": "36571738-5ba0-4bb9-fa72-f08af48f9a4a"
      },
      "execution_count": null,
      "outputs": [
        {
          "output_type": "execute_result",
          "data": {
            "text/plain": [
              "'Coronavirus Disease COVID19'"
            ],
            "application/vnd.google.colaboratory.intrinsic+json": {
              "type": "string"
            }
          },
          "metadata": {},
          "execution_count": 40
        }
      ]
    },
    {
      "cell_type": "code",
      "source": [
        "re.sub(r'[^\\w\\s]|\\d', '', s) # menghilangkan yg bukan angka, huruf, dan spasi atau menghilangkan angka"
      ],
      "metadata": {
        "colab": {
          "base_uri": "https://localhost:8080/"
        },
        "id": "zxwubFiNpZpQ",
        "outputId": "dfc967b1-f498-4817-f47d-8b60f08814ec"
      },
      "execution_count": null,
      "outputs": [
        {
          "output_type": "execute_result",
          "data": {
            "text/plain": [
              "'Coronavirus Disease COVID'"
            ],
            "application/vnd.google.colaboratory.intrinsic+json": {
              "type": "string"
            }
          },
          "metadata": {},
          "execution_count": 41
        }
      ]
    },
    {
      "cell_type": "code",
      "source": [
        "s_re = re.findall(r'[a-zA-Z]+', s) # hanya mengambil kata\n",
        "s_re"
      ],
      "metadata": {
        "colab": {
          "base_uri": "https://localhost:8080/"
        },
        "id": "NHvIv_Q_j02g",
        "outputId": "4add6009-e366-45a9-de05-29ab7c3186c4"
      },
      "execution_count": null,
      "outputs": [
        {
          "output_type": "execute_result",
          "data": {
            "text/plain": [
              "['Coronavirus', 'Disease', 'COVID']"
            ]
          },
          "metadata": {},
          "execution_count": 42
        }
      ]
    },
    {
      "cell_type": "code",
      "source": [
        "' '.join(s_re) # menggabungkan kata"
      ],
      "metadata": {
        "colab": {
          "base_uri": "https://localhost:8080/"
        },
        "id": "q252redBndso",
        "outputId": "9bd35187-20d9-485f-ffcb-01093fc540a4"
      },
      "execution_count": null,
      "outputs": [
        {
          "output_type": "execute_result",
          "data": {
            "text/plain": [
              "'Coronavirus Disease COVID'"
            ],
            "application/vnd.google.colaboratory.intrinsic+json": {
              "type": "string"
            }
          },
          "metadata": {},
          "execution_count": 43
        }
      ]
    },
    {
      "cell_type": "markdown",
      "source": [
        "##### add"
      ],
      "metadata": {
        "id": "YQ5IRcg-ISy2"
      }
    },
    {
      "cell_type": "code",
      "source": [
        "# ekstrak email dan nomor\n",
        "e = 'heloo email saya abc_def@gggg.co.id'\n",
        "re.findall('\\S+@\\S+\\.+[a-z]+', e) "
      ],
      "metadata": {
        "colab": {
          "base_uri": "https://localhost:8080/"
        },
        "id": "mOrHi7wdu1ae",
        "outputId": "8b9ed899-cd10-47b9-d9d6-327bf0d9a59c"
      },
      "execution_count": null,
      "outputs": [
        {
          "output_type": "execute_result",
          "data": {
            "text/plain": [
              "['abc_def@gggg.co.id']"
            ]
          },
          "metadata": {},
          "execution_count": 44
        }
      ]
    },
    {
      "cell_type": "markdown",
      "source": [
        "ELIZA is a natural language conversation program described by Joseph Weizenbaum in January 1966\n",
        "\n",
        "Early NLP system that imitated a Rogerian \n",
        "psychotherapist \n",
        "\n",
        "https://dl.acm.org/doi/10.1145/365153.365168\n",
        "\n",
        "https://www.masswerk.at/elizabot/"
      ],
      "metadata": {
        "id": "ylSSY_7uIW_Q"
      }
    },
    {
      "cell_type": "markdown",
      "source": [
        "Simple Application: ELIZA\n",
        "\n",
        "* They're always bugging us about something or other. ----> CAN YOU THINK OF A SPECIFIC EXAMPLE \n",
        "* Well, my girlfriend made me come here. ----> YOUR GIRLFRIEND MADE YOU COME HERE \n",
        "* He says I'm depressed much of the time. ----> I AM SORRY TO HEAR YOU ARE DEPRESSED"
      ],
      "metadata": {
        "id": "EAmgeNhLJpfr"
      }
    },
    {
      "cell_type": "code",
      "source": [],
      "metadata": {
        "id": "kkGIEg9LIVMB"
      },
      "execution_count": null,
      "outputs": []
    },
    {
      "cell_type": "markdown",
      "source": [
        "### tokenize"
      ],
      "metadata": {
        "id": "b3CKAYeDfWfn"
      }
    },
    {
      "cell_type": "markdown",
      "source": [
        "Tokenizing adalah teknik pemisahan sebuah kalimat menjadi kata per kata yang biasa disebut token."
      ],
      "metadata": {
        "id": "n7dcJ6uxfqMB"
      }
    },
    {
      "cell_type": "code",
      "source": [
        "s = '''PeduliLindungi adalah aplikasi yang dikembangkan untuk membantu instansi pemerintah terkait \n",
        "        dalam melakukan pelacakan untuk menghentikan penyebaran Coronavirus Disease (COVID-19).'''"
      ],
      "metadata": {
        "id": "7DrPQeFUfbAh"
      },
      "execution_count": null,
      "outputs": []
    },
    {
      "cell_type": "code",
      "source": [
        "s.split()"
      ],
      "metadata": {
        "colab": {
          "base_uri": "https://localhost:8080/"
        },
        "id": "OmRO46JxgJ09",
        "outputId": "2cc96cb0-50a5-4f71-e724-664e7731e312"
      },
      "execution_count": null,
      "outputs": [
        {
          "output_type": "execute_result",
          "data": {
            "text/plain": [
              "['PeduliLindungi',\n",
              " 'adalah',\n",
              " 'aplikasi',\n",
              " 'yang',\n",
              " 'dikembangkan',\n",
              " 'untuk',\n",
              " 'membantu',\n",
              " 'instansi',\n",
              " 'pemerintah',\n",
              " 'terkait',\n",
              " 'dalam',\n",
              " 'melakukan',\n",
              " 'pelacakan',\n",
              " 'untuk',\n",
              " 'menghentikan',\n",
              " 'penyebaran',\n",
              " 'Coronavirus',\n",
              " 'Disease',\n",
              " '(COVID-19).']"
            ]
          },
          "metadata": {},
          "execution_count": 46
        }
      ]
    },
    {
      "cell_type": "markdown",
      "source": [
        "#### tokenize nltk"
      ],
      "metadata": {
        "id": "HLaJBI-5uJub"
      }
    },
    {
      "cell_type": "code",
      "source": [
        "# import tokenize nltk\n",
        "from nltk.tokenize import word_tokenize, sent_tokenize"
      ],
      "metadata": {
        "id": "RlisTPsky6Rg"
      },
      "execution_count": null,
      "outputs": []
    },
    {
      "cell_type": "code",
      "source": [
        "p = '''PeduliLindungi adalah aplikasi yang dikembangkan untuk membantu instansi pemerintah terkait dalam melakukan pelacakan untuk menghentikan penyebaran Coronavirus Disease (COVID-19).\n",
        "Aplikasi ini mengandalkan partisipasi masyarakat untuk saling membagikan data lokasinya saat bepergian agar penelusuran riwayat kontak dengan penderita COVID-19 dapat dilakukan.\n",
        "Pengguna aplikasi ini juga akan mendapatkan notifikasi jika berada di keramaian atau berada di zona merah, yaitu area atau kelurahan yang sudah terdata bahwa ada orang yang terinfeksi COVID-19 positif atau ada Pasien Dalam Pengawasan.'''"
      ],
      "metadata": {
        "id": "aHEfqBgMar8i"
      },
      "execution_count": null,
      "outputs": []
    },
    {
      "cell_type": "code",
      "source": [
        "p_tokens = sent_tokenize(p)\n",
        "p_tokens"
      ],
      "metadata": {
        "colab": {
          "base_uri": "https://localhost:8080/"
        },
        "id": "JB1pXODYabmL",
        "outputId": "bbffeeaa-c257-4253-efff-53b3ff04a704"
      },
      "execution_count": null,
      "outputs": [
        {
          "output_type": "execute_result",
          "data": {
            "text/plain": [
              "['PeduliLindungi adalah aplikasi yang dikembangkan untuk membantu instansi pemerintah terkait dalam melakukan pelacakan untuk menghentikan penyebaran Coronavirus Disease (COVID-19).',\n",
              " 'Aplikasi ini mengandalkan partisipasi masyarakat untuk saling membagikan data lokasinya saat bepergian agar penelusuran riwayat kontak dengan penderita COVID-19 dapat dilakukan.',\n",
              " 'Pengguna aplikasi ini juga akan mendapatkan notifikasi jika berada di keramaian atau berada di zona merah, yaitu area atau kelurahan yang sudah terdata bahwa ada orang yang terinfeksi COVID-19 positif atau ada Pasien Dalam Pengawasan.']"
            ]
          },
          "metadata": {},
          "execution_count": 49
        }
      ]
    },
    {
      "cell_type": "code",
      "source": [
        "len(p_tokens)"
      ],
      "metadata": {
        "colab": {
          "base_uri": "https://localhost:8080/"
        },
        "id": "YEJCE48ybo_H",
        "outputId": "48da10da-bfcb-4678-e56c-2d3094aab7b3"
      },
      "execution_count": null,
      "outputs": [
        {
          "output_type": "execute_result",
          "data": {
            "text/plain": [
              "3"
            ]
          },
          "metadata": {},
          "execution_count": 50
        }
      ]
    },
    {
      "cell_type": "code",
      "source": [
        "word_tokenize(p)"
      ],
      "metadata": {
        "colab": {
          "base_uri": "https://localhost:8080/"
        },
        "id": "gK1LNh5xbrqN",
        "outputId": "82c409e3-7743-4d88-a0fa-93d7197e99fe"
      },
      "execution_count": null,
      "outputs": [
        {
          "output_type": "execute_result",
          "data": {
            "text/plain": [
              "['PeduliLindungi',\n",
              " 'adalah',\n",
              " 'aplikasi',\n",
              " 'yang',\n",
              " 'dikembangkan',\n",
              " 'untuk',\n",
              " 'membantu',\n",
              " 'instansi',\n",
              " 'pemerintah',\n",
              " 'terkait',\n",
              " 'dalam',\n",
              " 'melakukan',\n",
              " 'pelacakan',\n",
              " 'untuk',\n",
              " 'menghentikan',\n",
              " 'penyebaran',\n",
              " 'Coronavirus',\n",
              " 'Disease',\n",
              " '(',\n",
              " 'COVID-19',\n",
              " ')',\n",
              " '.',\n",
              " 'Aplikasi',\n",
              " 'ini',\n",
              " 'mengandalkan',\n",
              " 'partisipasi',\n",
              " 'masyarakat',\n",
              " 'untuk',\n",
              " 'saling',\n",
              " 'membagikan',\n",
              " 'data',\n",
              " 'lokasinya',\n",
              " 'saat',\n",
              " 'bepergian',\n",
              " 'agar',\n",
              " 'penelusuran',\n",
              " 'riwayat',\n",
              " 'kontak',\n",
              " 'dengan',\n",
              " 'penderita',\n",
              " 'COVID-19',\n",
              " 'dapat',\n",
              " 'dilakukan',\n",
              " '.',\n",
              " 'Pengguna',\n",
              " 'aplikasi',\n",
              " 'ini',\n",
              " 'juga',\n",
              " 'akan',\n",
              " 'mendapatkan',\n",
              " 'notifikasi',\n",
              " 'jika',\n",
              " 'berada',\n",
              " 'di',\n",
              " 'keramaian',\n",
              " 'atau',\n",
              " 'berada',\n",
              " 'di',\n",
              " 'zona',\n",
              " 'merah',\n",
              " ',',\n",
              " 'yaitu',\n",
              " 'area',\n",
              " 'atau',\n",
              " 'kelurahan',\n",
              " 'yang',\n",
              " 'sudah',\n",
              " 'terdata',\n",
              " 'bahwa',\n",
              " 'ada',\n",
              " 'orang',\n",
              " 'yang',\n",
              " 'terinfeksi',\n",
              " 'COVID-19',\n",
              " 'positif',\n",
              " 'atau',\n",
              " 'ada',\n",
              " 'Pasien',\n",
              " 'Dalam',\n",
              " 'Pengawasan',\n",
              " '.']"
            ]
          },
          "metadata": {},
          "execution_count": 51
        }
      ]
    },
    {
      "cell_type": "markdown",
      "source": [
        "### stopword"
      ],
      "metadata": {
        "id": "a6vqByq_eJ84"
      }
    },
    {
      "cell_type": "code",
      "source": [
        "s = 'budi dan ani menyukai makanan yang pedas saat malam hari'\n",
        "stopwords = ['dan', 'yang', 'saat']\n",
        "s = s.split()\n",
        "s  = [word for word in s if word not in stopwords]\n",
        "result = ' '.join(s)\n",
        "\n",
        "print(result)"
      ],
      "metadata": {
        "colab": {
          "base_uri": "https://localhost:8080/"
        },
        "id": "ROjBhgIkecvW",
        "outputId": "9b98565e-fa0a-4bd3-affc-82e303cab8fe"
      },
      "execution_count": null,
      "outputs": [
        {
          "output_type": "stream",
          "name": "stdout",
          "text": [
            "budi ani menyukai makanan pedas malam hari\n"
          ]
        }
      ]
    },
    {
      "cell_type": "markdown",
      "source": [
        "#### nltk stopword "
      ],
      "metadata": {
        "id": "PfaY4ZZYehY1"
      }
    },
    {
      "cell_type": "code",
      "source": [
        "# download stopwords nltk\n",
        "nltk.download('stopwords')"
      ],
      "metadata": {
        "colab": {
          "base_uri": "https://localhost:8080/"
        },
        "id": "SdfgszEWghR9",
        "outputId": "cbe47cd6-490d-406f-f101-6819396c96d5"
      },
      "execution_count": null,
      "outputs": [
        {
          "output_type": "stream",
          "name": "stderr",
          "text": [
            "[nltk_data] Downloading package stopwords to /root/nltk_data...\n",
            "[nltk_data]   Unzipping corpora/stopwords.zip.\n"
          ]
        },
        {
          "output_type": "execute_result",
          "data": {
            "text/plain": [
              "True"
            ]
          },
          "metadata": {},
          "execution_count": 53
        }
      ]
    },
    {
      "cell_type": "code",
      "source": [
        "from nltk.corpus import stopwords"
      ],
      "metadata": {
        "id": "KR8vY4-Pel1_"
      },
      "execution_count": null,
      "outputs": []
    },
    {
      "cell_type": "code",
      "source": [
        "stop_nltk = stopwords.words('indonesian')\n",
        "print(len(stop_nltk), \"stopwords:\", stop_nltk)"
      ],
      "metadata": {
        "colab": {
          "base_uri": "https://localhost:8080/"
        },
        "id": "Mdp7PgLUgav4",
        "outputId": "a62b97f4-37b7-4789-8873-1cdc169089a4"
      },
      "execution_count": null,
      "outputs": [
        {
          "output_type": "stream",
          "name": "stdout",
          "text": [
            "758 stopwords: ['ada', 'adalah', 'adanya', 'adapun', 'agak', 'agaknya', 'agar', 'akan', 'akankah', 'akhir', 'akhiri', 'akhirnya', 'aku', 'akulah', 'amat', 'amatlah', 'anda', 'andalah', 'antar', 'antara', 'antaranya', 'apa', 'apaan', 'apabila', 'apakah', 'apalagi', 'apatah', 'artinya', 'asal', 'asalkan', 'atas', 'atau', 'ataukah', 'ataupun', 'awal', 'awalnya', 'bagai', 'bagaikan', 'bagaimana', 'bagaimanakah', 'bagaimanapun', 'bagi', 'bagian', 'bahkan', 'bahwa', 'bahwasanya', 'baik', 'bakal', 'bakalan', 'balik', 'banyak', 'bapak', 'baru', 'bawah', 'beberapa', 'begini', 'beginian', 'beginikah', 'beginilah', 'begitu', 'begitukah', 'begitulah', 'begitupun', 'bekerja', 'belakang', 'belakangan', 'belum', 'belumlah', 'benar', 'benarkah', 'benarlah', 'berada', 'berakhir', 'berakhirlah', 'berakhirnya', 'berapa', 'berapakah', 'berapalah', 'berapapun', 'berarti', 'berawal', 'berbagai', 'berdatangan', 'beri', 'berikan', 'berikut', 'berikutnya', 'berjumlah', 'berkali-kali', 'berkata', 'berkehendak', 'berkeinginan', 'berkenaan', 'berlainan', 'berlalu', 'berlangsung', 'berlebihan', 'bermacam', 'bermacam-macam', 'bermaksud', 'bermula', 'bersama', 'bersama-sama', 'bersiap', 'bersiap-siap', 'bertanya', 'bertanya-tanya', 'berturut', 'berturut-turut', 'bertutur', 'berujar', 'berupa', 'besar', 'betul', 'betulkah', 'biasa', 'biasanya', 'bila', 'bilakah', 'bisa', 'bisakah', 'boleh', 'bolehkah', 'bolehlah', 'buat', 'bukan', 'bukankah', 'bukanlah', 'bukannya', 'bulan', 'bung', 'cara', 'caranya', 'cukup', 'cukupkah', 'cukuplah', 'cuma', 'dahulu', 'dalam', 'dan', 'dapat', 'dari', 'daripada', 'datang', 'dekat', 'demi', 'demikian', 'demikianlah', 'dengan', 'depan', 'di', 'dia', 'diakhiri', 'diakhirinya', 'dialah', 'diantara', 'diantaranya', 'diberi', 'diberikan', 'diberikannya', 'dibuat', 'dibuatnya', 'didapat', 'didatangkan', 'digunakan', 'diibaratkan', 'diibaratkannya', 'diingat', 'diingatkan', 'diinginkan', 'dijawab', 'dijelaskan', 'dijelaskannya', 'dikarenakan', 'dikatakan', 'dikatakannya', 'dikerjakan', 'diketahui', 'diketahuinya', 'dikira', 'dilakukan', 'dilalui', 'dilihat', 'dimaksud', 'dimaksudkan', 'dimaksudkannya', 'dimaksudnya', 'diminta', 'dimintai', 'dimisalkan', 'dimulai', 'dimulailah', 'dimulainya', 'dimungkinkan', 'dini', 'dipastikan', 'diperbuat', 'diperbuatnya', 'dipergunakan', 'diperkirakan', 'diperlihatkan', 'diperlukan', 'diperlukannya', 'dipersoalkan', 'dipertanyakan', 'dipunyai', 'diri', 'dirinya', 'disampaikan', 'disebut', 'disebutkan', 'disebutkannya', 'disini', 'disinilah', 'ditambahkan', 'ditandaskan', 'ditanya', 'ditanyai', 'ditanyakan', 'ditegaskan', 'ditujukan', 'ditunjuk', 'ditunjuki', 'ditunjukkan', 'ditunjukkannya', 'ditunjuknya', 'dituturkan', 'dituturkannya', 'diucapkan', 'diucapkannya', 'diungkapkan', 'dong', 'dua', 'dulu', 'empat', 'enggak', 'enggaknya', 'entah', 'entahlah', 'guna', 'gunakan', 'hal', 'hampir', 'hanya', 'hanyalah', 'hari', 'harus', 'haruslah', 'harusnya', 'hendak', 'hendaklah', 'hendaknya', 'hingga', 'ia', 'ialah', 'ibarat', 'ibaratkan', 'ibaratnya', 'ibu', 'ikut', 'ingat', 'ingat-ingat', 'ingin', 'inginkah', 'inginkan', 'ini', 'inikah', 'inilah', 'itu', 'itukah', 'itulah', 'jadi', 'jadilah', 'jadinya', 'jangan', 'jangankan', 'janganlah', 'jauh', 'jawab', 'jawaban', 'jawabnya', 'jelas', 'jelaskan', 'jelaslah', 'jelasnya', 'jika', 'jikalau', 'juga', 'jumlah', 'jumlahnya', 'justru', 'kala', 'kalau', 'kalaulah', 'kalaupun', 'kalian', 'kami', 'kamilah', 'kamu', 'kamulah', 'kan', 'kapan', 'kapankah', 'kapanpun', 'karena', 'karenanya', 'kasus', 'kata', 'katakan', 'katakanlah', 'katanya', 'ke', 'keadaan', 'kebetulan', 'kecil', 'kedua', 'keduanya', 'keinginan', 'kelamaan', 'kelihatan', 'kelihatannya', 'kelima', 'keluar', 'kembali', 'kemudian', 'kemungkinan', 'kemungkinannya', 'kenapa', 'kepada', 'kepadanya', 'kesampaian', 'keseluruhan', 'keseluruhannya', 'keterlaluan', 'ketika', 'khususnya', 'kini', 'kinilah', 'kira', 'kira-kira', 'kiranya', 'kita', 'kitalah', 'kok', 'kurang', 'lagi', 'lagian', 'lah', 'lain', 'lainnya', 'lalu', 'lama', 'lamanya', 'lanjut', 'lanjutnya', 'lebih', 'lewat', 'lima', 'luar', 'macam', 'maka', 'makanya', 'makin', 'malah', 'malahan', 'mampu', 'mampukah', 'mana', 'manakala', 'manalagi', 'masa', 'masalah', 'masalahnya', 'masih', 'masihkah', 'masing', 'masing-masing', 'mau', 'maupun', 'melainkan', 'melakukan', 'melalui', 'melihat', 'melihatnya', 'memang', 'memastikan', 'memberi', 'memberikan', 'membuat', 'memerlukan', 'memihak', 'meminta', 'memintakan', 'memisalkan', 'memperbuat', 'mempergunakan', 'memperkirakan', 'memperlihatkan', 'mempersiapkan', 'mempersoalkan', 'mempertanyakan', 'mempunyai', 'memulai', 'memungkinkan', 'menaiki', 'menambahkan', 'menandaskan', 'menanti', 'menanti-nanti', 'menantikan', 'menanya', 'menanyai', 'menanyakan', 'mendapat', 'mendapatkan', 'mendatang', 'mendatangi', 'mendatangkan', 'menegaskan', 'mengakhiri', 'mengapa', 'mengatakan', 'mengatakannya', 'mengenai', 'mengerjakan', 'mengetahui', 'menggunakan', 'menghendaki', 'mengibaratkan', 'mengibaratkannya', 'mengingat', 'mengingatkan', 'menginginkan', 'mengira', 'mengucapkan', 'mengucapkannya', 'mengungkapkan', 'menjadi', 'menjawab', 'menjelaskan', 'menuju', 'menunjuk', 'menunjuki', 'menunjukkan', 'menunjuknya', 'menurut', 'menuturkan', 'menyampaikan', 'menyangkut', 'menyatakan', 'menyebutkan', 'menyeluruh', 'menyiapkan', 'merasa', 'mereka', 'merekalah', 'merupakan', 'meski', 'meskipun', 'meyakini', 'meyakinkan', 'minta', 'mirip', 'misal', 'misalkan', 'misalnya', 'mula', 'mulai', 'mulailah', 'mulanya', 'mungkin', 'mungkinkah', 'nah', 'naik', 'namun', 'nanti', 'nantinya', 'nyaris', 'nyatanya', 'oleh', 'olehnya', 'pada', 'padahal', 'padanya', 'pak', 'paling', 'panjang', 'pantas', 'para', 'pasti', 'pastilah', 'penting', 'pentingnya', 'per', 'percuma', 'perlu', 'perlukah', 'perlunya', 'pernah', 'persoalan', 'pertama', 'pertama-tama', 'pertanyaan', 'pertanyakan', 'pihak', 'pihaknya', 'pukul', 'pula', 'pun', 'punya', 'rasa', 'rasanya', 'rata', 'rupanya', 'saat', 'saatnya', 'saja', 'sajalah', 'saling', 'sama', 'sama-sama', 'sambil', 'sampai', 'sampai-sampai', 'sampaikan', 'sana', 'sangat', 'sangatlah', 'satu', 'saya', 'sayalah', 'se', 'sebab', 'sebabnya', 'sebagai', 'sebagaimana', 'sebagainya', 'sebagian', 'sebaik', 'sebaik-baiknya', 'sebaiknya', 'sebaliknya', 'sebanyak', 'sebegini', 'sebegitu', 'sebelum', 'sebelumnya', 'sebenarnya', 'seberapa', 'sebesar', 'sebetulnya', 'sebisanya', 'sebuah', 'sebut', 'sebutlah', 'sebutnya', 'secara', 'secukupnya', 'sedang', 'sedangkan', 'sedemikian', 'sedikit', 'sedikitnya', 'seenaknya', 'segala', 'segalanya', 'segera', 'seharusnya', 'sehingga', 'seingat', 'sejak', 'sejauh', 'sejenak', 'sejumlah', 'sekadar', 'sekadarnya', 'sekali', 'sekali-kali', 'sekalian', 'sekaligus', 'sekalipun', 'sekarang', 'sekarang', 'sekecil', 'seketika', 'sekiranya', 'sekitar', 'sekitarnya', 'sekurang-kurangnya', 'sekurangnya', 'sela', 'selain', 'selaku', 'selalu', 'selama', 'selama-lamanya', 'selamanya', 'selanjutnya', 'seluruh', 'seluruhnya', 'semacam', 'semakin', 'semampu', 'semampunya', 'semasa', 'semasih', 'semata', 'semata-mata', 'semaunya', 'sementara', 'semisal', 'semisalnya', 'sempat', 'semua', 'semuanya', 'semula', 'sendiri', 'sendirian', 'sendirinya', 'seolah', 'seolah-olah', 'seorang', 'sepanjang', 'sepantasnya', 'sepantasnyalah', 'seperlunya', 'seperti', 'sepertinya', 'sepihak', 'sering', 'seringnya', 'serta', 'serupa', 'sesaat', 'sesama', 'sesampai', 'sesegera', 'sesekali', 'seseorang', 'sesuatu', 'sesuatunya', 'sesudah', 'sesudahnya', 'setelah', 'setempat', 'setengah', 'seterusnya', 'setiap', 'setiba', 'setibanya', 'setidak-tidaknya', 'setidaknya', 'setinggi', 'seusai', 'sewaktu', 'siap', 'siapa', 'siapakah', 'siapapun', 'sini', 'sinilah', 'soal', 'soalnya', 'suatu', 'sudah', 'sudahkah', 'sudahlah', 'supaya', 'tadi', 'tadinya', 'tahu', 'tahun', 'tak', 'tambah', 'tambahnya', 'tampak', 'tampaknya', 'tandas', 'tandasnya', 'tanpa', 'tanya', 'tanyakan', 'tanyanya', 'tapi', 'tegas', 'tegasnya', 'telah', 'tempat', 'tengah', 'tentang', 'tentu', 'tentulah', 'tentunya', 'tepat', 'terakhir', 'terasa', 'terbanyak', 'terdahulu', 'terdapat', 'terdiri', 'terhadap', 'terhadapnya', 'teringat', 'teringat-ingat', 'terjadi', 'terjadilah', 'terjadinya', 'terkira', 'terlalu', 'terlebih', 'terlihat', 'termasuk', 'ternyata', 'tersampaikan', 'tersebut', 'tersebutlah', 'tertentu', 'tertuju', 'terus', 'terutama', 'tetap', 'tetapi', 'tiap', 'tiba', 'tiba-tiba', 'tidak', 'tidakkah', 'tidaklah', 'tiga', 'tinggi', 'toh', 'tunjuk', 'turut', 'tutur', 'tuturnya', 'ucap', 'ucapnya', 'ujar', 'ujarnya', 'umum', 'umumnya', 'ungkap', 'ungkapnya', 'untuk', 'usah', 'usai', 'waduh', 'wah', 'wahai', 'waktu', 'waktunya', 'walau', 'walaupun', 'wong', 'yaitu', 'yakin', 'yakni', 'yang']\n"
          ]
        }
      ]
    },
    {
      "cell_type": "code",
      "source": [
        "s = 'budi dan ani menyukai makanan yang pedas saat malam hari'\n",
        "stopwords = stop_nltk\n",
        "s = s.split()\n",
        "s  = [word for word in s if word not in stopwords]\n",
        "result = ' '.join(s)\n",
        "\n",
        "print(result)"
      ],
      "metadata": {
        "colab": {
          "base_uri": "https://localhost:8080/"
        },
        "id": "4IpDxNGFgw5w",
        "outputId": "46a2f46b-3157-4553-963a-59bd24109904"
      },
      "execution_count": null,
      "outputs": [
        {
          "output_type": "stream",
          "name": "stdout",
          "text": [
            "budi ani menyukai makanan pedas malam\n"
          ]
        }
      ]
    },
    {
      "cell_type": "markdown",
      "source": [
        "#### sastrawi stopword"
      ],
      "metadata": {
        "id": "wXbcQOZYg9R4"
      }
    },
    {
      "cell_type": "code",
      "source": [
        "from Sastrawi.StopWordRemover.StopWordRemoverFactory import StopWordRemoverFactory"
      ],
      "metadata": {
        "id": "rVc0pibhhXBC"
      },
      "execution_count": null,
      "outputs": []
    },
    {
      "cell_type": "code",
      "source": [
        "factory = StopWordRemoverFactory()\n",
        "stop_sastra = factory.get_stop_words()\n",
        "print(len(stop_sastra), \"stopwords:\", stop_sastra)"
      ],
      "metadata": {
        "colab": {
          "base_uri": "https://localhost:8080/"
        },
        "id": "4lVh_4vAhLOh",
        "outputId": "76236638-2e30-4ee7-dc3c-792e1c8e4b97"
      },
      "execution_count": null,
      "outputs": [
        {
          "output_type": "stream",
          "name": "stdout",
          "text": [
            "126 stopwords: ['yang', 'untuk', 'pada', 'ke', 'para', 'namun', 'menurut', 'antara', 'dia', 'dua', 'ia', 'seperti', 'jika', 'jika', 'sehingga', 'kembali', 'dan', 'tidak', 'ini', 'karena', 'kepada', 'oleh', 'saat', 'harus', 'sementara', 'setelah', 'belum', 'kami', 'sekitar', 'bagi', 'serta', 'di', 'dari', 'telah', 'sebagai', 'masih', 'hal', 'ketika', 'adalah', 'itu', 'dalam', 'bisa', 'bahwa', 'atau', 'hanya', 'kita', 'dengan', 'akan', 'juga', 'ada', 'mereka', 'sudah', 'saya', 'terhadap', 'secara', 'agar', 'lain', 'anda', 'begitu', 'mengapa', 'kenapa', 'yaitu', 'yakni', 'daripada', 'itulah', 'lagi', 'maka', 'tentang', 'demi', 'dimana', 'kemana', 'pula', 'sambil', 'sebelum', 'sesudah', 'supaya', 'guna', 'kah', 'pun', 'sampai', 'sedangkan', 'selagi', 'sementara', 'tetapi', 'apakah', 'kecuali', 'sebab', 'selain', 'seolah', 'seraya', 'seterusnya', 'tanpa', 'agak', 'boleh', 'dapat', 'dsb', 'dst', 'dll', 'dahulu', 'dulunya', 'anu', 'demikian', 'tapi', 'ingin', 'juga', 'nggak', 'mari', 'nanti', 'melainkan', 'oh', 'ok', 'seharusnya', 'sebetulnya', 'setiap', 'setidaknya', 'sesuatu', 'pasti', 'saja', 'toh', 'ya', 'walau', 'tolong', 'tentu', 'amat', 'apalagi', 'bagaimanapun']\n"
          ]
        }
      ]
    },
    {
      "cell_type": "code",
      "source": [
        "s = 'budi dan ani menyukai makanan yang pedas saat malam hari'\n",
        "stopwords = stop_sastra\n",
        "s = s.split()\n",
        "s  = [word for word in s if word not in stopwords]\n",
        "result = ' '.join(s)\n",
        "\n",
        "print(result)"
      ],
      "metadata": {
        "colab": {
          "base_uri": "https://localhost:8080/"
        },
        "id": "56L_A0mvhtTA",
        "outputId": "ffeb14bd-c047-4d97-e5b3-4ab2b935dc9f"
      },
      "execution_count": null,
      "outputs": [
        {
          "output_type": "stream",
          "name": "stdout",
          "text": [
            "budi ani menyukai makanan pedas malam hari\n"
          ]
        }
      ]
    },
    {
      "cell_type": "markdown",
      "source": [
        "#### menambah dan meniadakan list stopword"
      ],
      "metadata": {
        "id": "yBkD56oih-xC"
      }
    },
    {
      "cell_type": "code",
      "source": [
        "# menambah stopword \n",
        "# contoh menambah stopword kata hari dengan sastrawi\n",
        "tambahan_stopw = ['hari']\n",
        "new_stopw = stop_sastra + tambahan_stopw # menambah list\n",
        "\n",
        "\n",
        "s = 'budi dan ani menyukai makanan yang pedas saat malam hari'\n",
        "stopwords = new_stopw\n",
        "s = s.split()\n",
        "s  = [word for word in s if word not in stopwords]\n",
        "result = ' '.join(s)\n",
        "\n",
        "print(result)"
      ],
      "metadata": {
        "colab": {
          "base_uri": "https://localhost:8080/"
        },
        "id": "wgb4IC-6iLai",
        "outputId": "b34edc31-47e1-4dbe-dd24-998f8fbc8385"
      },
      "execution_count": null,
      "outputs": [
        {
          "output_type": "stream",
          "name": "stdout",
          "text": [
            "budi ani menyukai makanan pedas malam\n"
          ]
        }
      ]
    },
    {
      "cell_type": "code",
      "source": [
        "# meniadakan stopword\n",
        "# contoh meniadakan kata hari pada nltk\n",
        "kata_penting = ['hari']\n",
        "new_stopw = [word for word in stop_nltk if word not in kata_penting]\n",
        "\n",
        "s = 'budi dan ani menyukai makanan yang pedas saat malam hari'\n",
        "stopwords = new_stopw\n",
        "s = s.split()\n",
        "s  = [word for word in s if word not in stopwords]\n",
        "result = ' '.join(s)\n",
        "\n",
        "print(result)"
      ],
      "metadata": {
        "colab": {
          "base_uri": "https://localhost:8080/"
        },
        "id": "2rXdrKQZjGMU",
        "outputId": "e3b472aa-bfe8-4336-ba98-80cb57e91b5a"
      },
      "execution_count": null,
      "outputs": [
        {
          "output_type": "stream",
          "name": "stdout",
          "text": [
            "budi ani menyukai makanan pedas malam hari\n"
          ]
        }
      ]
    },
    {
      "cell_type": "markdown",
      "source": [],
      "metadata": {
        "id": "bSPMIE09iHRr"
      }
    },
    {
      "cell_type": "markdown",
      "source": [
        "### stemming"
      ],
      "metadata": {
        "id": "39ujFRvJlNHn"
      }
    },
    {
      "cell_type": "code",
      "source": [
        "from Sastrawi.Stemmer.StemmerFactory import StemmerFactory"
      ],
      "metadata": {
        "id": "F2dEXp_tlUpj"
      },
      "execution_count": null,
      "outputs": []
    },
    {
      "cell_type": "code",
      "source": [
        "stemmer = StemmerFactory().create_stemmer()\n",
        " \n",
        "s = \"Andi memakan rawon dengan lahap, setelah membersihkan rumah.\"\n",
        "\n",
        "hasil = stemmer.stem(s)\n",
        "print(hasil)"
      ],
      "metadata": {
        "colab": {
          "base_uri": "https://localhost:8080/"
        },
        "id": "wUVKQWjclUaS",
        "outputId": "5aea662c-a800-4cfb-f5ec-f3e3009cb5cb"
      },
      "execution_count": null,
      "outputs": [
        {
          "output_type": "stream",
          "name": "stdout",
          "text": [
            "andi makan rawon dengan lahap telah bersih rumah\n"
          ]
        }
      ]
    },
    {
      "cell_type": "markdown",
      "source": [
        "# Analisa review app"
      ],
      "metadata": {
        "id": "Tl099YyqCgcd"
      }
    },
    {
      "cell_type": "markdown",
      "source": [
        "analisa review aplikasi pedulilindungi"
      ],
      "metadata": {
        "id": "aTFVkIot1ygX"
      }
    },
    {
      "cell_type": "markdown",
      "source": [
        "## Scraping 'google play'"
      ],
      "metadata": {
        "id": "r8k6wvLICnbO"
      }
    },
    {
      "cell_type": "markdown",
      "source": [
        "scraping dengan api JoMingyu\n",
        "\n",
        "https://pypi.org/project/google-play-scraper/\n",
        "\n",
        "github https://github.com/JoMingyu/google-play-scraper"
      ],
      "metadata": {
        "id": "mKcCgIU7DVvx"
      }
    },
    {
      "cell_type": "code",
      "source": [
        "# Menginstall google-play-scraper\n",
        "%pip install google-play-scraper"
      ],
      "metadata": {
        "colab": {
          "base_uri": "https://localhost:8080/"
        },
        "id": "JxxtYGJjCf2s",
        "outputId": "6fcfe135-af50-41a5-e82f-21f77ab20ff8"
      },
      "execution_count": null,
      "outputs": [
        {
          "output_type": "stream",
          "name": "stdout",
          "text": [
            "Looking in indexes: https://pypi.org/simple, https://us-python.pkg.dev/colab-wheels/public/simple/\n",
            "Requirement already satisfied: google-play-scraper in /usr/local/lib/python3.7/dist-packages (1.2.2)\n"
          ]
        }
      ]
    },
    {
      "cell_type": "code",
      "source": [
        "# import lib google_play_scraper\n",
        "from google_play_scraper import Sort, reviews"
      ],
      "metadata": {
        "id": "N8qMVzfOEyaH"
      },
      "execution_count": null,
      "outputs": []
    },
    {
      "cell_type": "code",
      "source": [
        "# com.telkom.tracencare id app peduli lindungi\n",
        "result, continuation_token = reviews(\n",
        "    'com.telkom.tracencare',\n",
        "    lang='id', # defaults to 'en'\n",
        "    country='id', # defaults to 'us'\n",
        "    sort=Sort.NEWEST, # defaults to Sort.NEWEST\n",
        "    count=200, # defaults to 100\n",
        "    filter_score_with=None # defaults to None(means all score)\n",
        ")"
      ],
      "metadata": {
        "id": "m-7CXkBuD6v6"
      },
      "execution_count": null,
      "outputs": []
    },
    {
      "cell_type": "code",
      "source": [
        "len(result)"
      ],
      "metadata": {
        "colab": {
          "base_uri": "https://localhost:8080/"
        },
        "id": "TxySfvL1Z-g4",
        "outputId": "af3b5373-8721-4106-fbcf-3442adffa931"
      },
      "execution_count": null,
      "outputs": [
        {
          "output_type": "execute_result",
          "data": {
            "text/plain": [
              "200"
            ]
          },
          "metadata": {},
          "execution_count": 184
        }
      ]
    },
    {
      "cell_type": "code",
      "source": [
        "result[:2]"
      ],
      "metadata": {
        "colab": {
          "base_uri": "https://localhost:8080/"
        },
        "id": "6ZEc7gxkFGAw",
        "outputId": "3c646fc1-b8d2-4b8a-fe5d-809b529da968"
      },
      "execution_count": null,
      "outputs": [
        {
          "output_type": "execute_result",
          "data": {
            "text/plain": [
              "[{'reviewId': 'd54e20a9-4fea-4670-ac2c-d120ae53dfbf',\n",
              "  'userName': 'nana sutisna',\n",
              "  'userImage': 'https://play-lh.googleusercontent.com/a/AItbvmmqSPGIFGIK0zar9-eXhaNDHS_eJx0ZsHNWtD0F=mo',\n",
              "  'content': 'Ok',\n",
              "  'score': 5,\n",
              "  'thumbsUpCount': 0,\n",
              "  'reviewCreatedVersion': None,\n",
              "  'at': datetime.datetime(2022, 9, 14, 2, 40, 50),\n",
              "  'replyContent': 'Halo,\\n\\nTerima kasih atas dukungan Anda.\\nKami akan terus berupaya memberikan informasi seakurat mungkin, serta senantiasa memperbaiki performansi aplikasi ini agar lebih mudah digunakan dan kami sangat menghargai kesabaran Anda dalam menunggu perbaikan yang dirilis selanjutnya.\\n\\nStay Healthy',\n",
              "  'repliedAt': datetime.datetime(2022, 9, 14, 11, 47, 6)},\n",
              " {'reviewId': '96e760cc-a34f-42c3-89fe-48ad5b623c87',\n",
              "  'userName': 'ekaa septhys',\n",
              "  'userImage': 'https://play-lh.googleusercontent.com/a-/AFdZucpRwOHJeEdIfjsVphfBSk8ZHD0bz_XIeAJvhcut',\n",
              "  'content': 'Kenapa versi terbaru sulit sekali terbuka',\n",
              "  'score': 3,\n",
              "  'thumbsUpCount': 0,\n",
              "  'reviewCreatedVersion': '4.5.4',\n",
              "  'at': datetime.datetime(2022, 9, 14, 2, 36, 45),\n",
              "  'replyContent': 'Halo, Kami mohon maaf atas ketidaknyamanan Anda. Kami sedang melakukan perbaikan secara menyeluruh untuk permasalahan ini, sebagai alternatif pengecekan/penggunaan dapat melalui website pedulilindungi.id. Mohon ditunggu update dari kami. Terima kasih. Stay healthy',\n",
              "  'repliedAt': datetime.datetime(2022, 9, 14, 11, 45, 54)}]"
            ]
          },
          "metadata": {},
          "execution_count": 185
        }
      ]
    },
    {
      "cell_type": "markdown",
      "source": [
        "## eksplorasi data"
      ],
      "metadata": {
        "id": "71q3r9hh2Lgm"
      }
    },
    {
      "cell_type": "code",
      "source": [
        "import pandas as pd\n",
        "import numpy as np"
      ],
      "metadata": {
        "id": "j3TeC10rFTfm"
      },
      "execution_count": null,
      "outputs": []
    },
    {
      "cell_type": "code",
      "source": [
        "df_pl = pd.DataFrame(data=np.array(result), columns=['review'])\n",
        "df_pl.head(2)"
      ],
      "metadata": {
        "colab": {
          "base_uri": "https://localhost:8080/",
          "height": 112
        },
        "id": "L5Czm-_2Zrcq",
        "outputId": "dc848f6d-2601-496e-c552-5935a3e08970"
      },
      "execution_count": null,
      "outputs": [
        {
          "output_type": "execute_result",
          "data": {
            "text/plain": [
              "                                              review\n",
              "0  {'reviewId': 'd54e20a9-4fea-4670-ac2c-d120ae53...\n",
              "1  {'reviewId': '96e760cc-a34f-42c3-89fe-48ad5b62..."
            ],
            "text/html": [
              "\n",
              "  <div id=\"df-6857894b-8e76-42a9-bf5b-9381a993909c\">\n",
              "    <div class=\"colab-df-container\">\n",
              "      <div>\n",
              "<style scoped>\n",
              "    .dataframe tbody tr th:only-of-type {\n",
              "        vertical-align: middle;\n",
              "    }\n",
              "\n",
              "    .dataframe tbody tr th {\n",
              "        vertical-align: top;\n",
              "    }\n",
              "\n",
              "    .dataframe thead th {\n",
              "        text-align: right;\n",
              "    }\n",
              "</style>\n",
              "<table border=\"1\" class=\"dataframe\">\n",
              "  <thead>\n",
              "    <tr style=\"text-align: right;\">\n",
              "      <th></th>\n",
              "      <th>review</th>\n",
              "    </tr>\n",
              "  </thead>\n",
              "  <tbody>\n",
              "    <tr>\n",
              "      <th>0</th>\n",
              "      <td>{'reviewId': 'd54e20a9-4fea-4670-ac2c-d120ae53...</td>\n",
              "    </tr>\n",
              "    <tr>\n",
              "      <th>1</th>\n",
              "      <td>{'reviewId': '96e760cc-a34f-42c3-89fe-48ad5b62...</td>\n",
              "    </tr>\n",
              "  </tbody>\n",
              "</table>\n",
              "</div>\n",
              "      <button class=\"colab-df-convert\" onclick=\"convertToInteractive('df-6857894b-8e76-42a9-bf5b-9381a993909c')\"\n",
              "              title=\"Convert this dataframe to an interactive table.\"\n",
              "              style=\"display:none;\">\n",
              "        \n",
              "  <svg xmlns=\"http://www.w3.org/2000/svg\" height=\"24px\"viewBox=\"0 0 24 24\"\n",
              "       width=\"24px\">\n",
              "    <path d=\"M0 0h24v24H0V0z\" fill=\"none\"/>\n",
              "    <path d=\"M18.56 5.44l.94 2.06.94-2.06 2.06-.94-2.06-.94-.94-2.06-.94 2.06-2.06.94zm-11 1L8.5 8.5l.94-2.06 2.06-.94-2.06-.94L8.5 2.5l-.94 2.06-2.06.94zm10 10l.94 2.06.94-2.06 2.06-.94-2.06-.94-.94-2.06-.94 2.06-2.06.94z\"/><path d=\"M17.41 7.96l-1.37-1.37c-.4-.4-.92-.59-1.43-.59-.52 0-1.04.2-1.43.59L10.3 9.45l-7.72 7.72c-.78.78-.78 2.05 0 2.83L4 21.41c.39.39.9.59 1.41.59.51 0 1.02-.2 1.41-.59l7.78-7.78 2.81-2.81c.8-.78.8-2.07 0-2.86zM5.41 20L4 18.59l7.72-7.72 1.47 1.35L5.41 20z\"/>\n",
              "  </svg>\n",
              "      </button>\n",
              "      \n",
              "  <style>\n",
              "    .colab-df-container {\n",
              "      display:flex;\n",
              "      flex-wrap:wrap;\n",
              "      gap: 12px;\n",
              "    }\n",
              "\n",
              "    .colab-df-convert {\n",
              "      background-color: #E8F0FE;\n",
              "      border: none;\n",
              "      border-radius: 50%;\n",
              "      cursor: pointer;\n",
              "      display: none;\n",
              "      fill: #1967D2;\n",
              "      height: 32px;\n",
              "      padding: 0 0 0 0;\n",
              "      width: 32px;\n",
              "    }\n",
              "\n",
              "    .colab-df-convert:hover {\n",
              "      background-color: #E2EBFA;\n",
              "      box-shadow: 0px 1px 2px rgba(60, 64, 67, 0.3), 0px 1px 3px 1px rgba(60, 64, 67, 0.15);\n",
              "      fill: #174EA6;\n",
              "    }\n",
              "\n",
              "    [theme=dark] .colab-df-convert {\n",
              "      background-color: #3B4455;\n",
              "      fill: #D2E3FC;\n",
              "    }\n",
              "\n",
              "    [theme=dark] .colab-df-convert:hover {\n",
              "      background-color: #434B5C;\n",
              "      box-shadow: 0px 1px 3px 1px rgba(0, 0, 0, 0.15);\n",
              "      filter: drop-shadow(0px 1px 2px rgba(0, 0, 0, 0.3));\n",
              "      fill: #FFFFFF;\n",
              "    }\n",
              "  </style>\n",
              "\n",
              "      <script>\n",
              "        const buttonEl =\n",
              "          document.querySelector('#df-6857894b-8e76-42a9-bf5b-9381a993909c button.colab-df-convert');\n",
              "        buttonEl.style.display =\n",
              "          google.colab.kernel.accessAllowed ? 'block' : 'none';\n",
              "\n",
              "        async function convertToInteractive(key) {\n",
              "          const element = document.querySelector('#df-6857894b-8e76-42a9-bf5b-9381a993909c');\n",
              "          const dataTable =\n",
              "            await google.colab.kernel.invokeFunction('convertToInteractive',\n",
              "                                                     [key], {});\n",
              "          if (!dataTable) return;\n",
              "\n",
              "          const docLinkHtml = 'Like what you see? Visit the ' +\n",
              "            '<a target=\"_blank\" href=https://colab.research.google.com/notebooks/data_table.ipynb>data table notebook</a>'\n",
              "            + ' to learn more about interactive tables.';\n",
              "          element.innerHTML = '';\n",
              "          dataTable['output_type'] = 'display_data';\n",
              "          await google.colab.output.renderOutput(dataTable, element);\n",
              "          const docLink = document.createElement('div');\n",
              "          docLink.innerHTML = docLinkHtml;\n",
              "          element.appendChild(docLink);\n",
              "        }\n",
              "      </script>\n",
              "    </div>\n",
              "  </div>\n",
              "  "
            ]
          },
          "metadata": {},
          "execution_count": 187
        }
      ]
    },
    {
      "cell_type": "code",
      "source": [
        "df_pl = pd.DataFrame(df_pl.pop('review').tolist())\n",
        "df_pl.head(2)"
      ],
      "metadata": {
        "colab": {
          "base_uri": "https://localhost:8080/",
          "height": 295
        },
        "id": "-j5OHm9rHoyY",
        "outputId": "01ed36f2-df57-481a-b7a2-3b8fb12f719e"
      },
      "execution_count": null,
      "outputs": [
        {
          "output_type": "execute_result",
          "data": {
            "text/plain": [
              "                               reviewId      userName  \\\n",
              "0  d54e20a9-4fea-4670-ac2c-d120ae53dfbf  nana sutisna   \n",
              "1  96e760cc-a34f-42c3-89fe-48ad5b623c87  ekaa septhys   \n",
              "\n",
              "                                           userImage  \\\n",
              "0  https://play-lh.googleusercontent.com/a/AItbvm...   \n",
              "1  https://play-lh.googleusercontent.com/a-/AFdZu...   \n",
              "\n",
              "                                     content  score  thumbsUpCount  \\\n",
              "0                                         Ok      5              0   \n",
              "1  Kenapa versi terbaru sulit sekali terbuka      3              0   \n",
              "\n",
              "  reviewCreatedVersion                  at  \\\n",
              "0                 None 2022-09-14 02:40:50   \n",
              "1                4.5.4 2022-09-14 02:36:45   \n",
              "\n",
              "                                        replyContent           repliedAt  \n",
              "0  Halo,\\n\\nTerima kasih atas dukungan Anda.\\nKam... 2022-09-14 11:47:06  \n",
              "1  Halo, Kami mohon maaf atas ketidaknyamanan And... 2022-09-14 11:45:54  "
            ],
            "text/html": [
              "\n",
              "  <div id=\"df-73abcf74-44a1-4676-b836-0defa1f77fe4\">\n",
              "    <div class=\"colab-df-container\">\n",
              "      <div>\n",
              "<style scoped>\n",
              "    .dataframe tbody tr th:only-of-type {\n",
              "        vertical-align: middle;\n",
              "    }\n",
              "\n",
              "    .dataframe tbody tr th {\n",
              "        vertical-align: top;\n",
              "    }\n",
              "\n",
              "    .dataframe thead th {\n",
              "        text-align: right;\n",
              "    }\n",
              "</style>\n",
              "<table border=\"1\" class=\"dataframe\">\n",
              "  <thead>\n",
              "    <tr style=\"text-align: right;\">\n",
              "      <th></th>\n",
              "      <th>reviewId</th>\n",
              "      <th>userName</th>\n",
              "      <th>userImage</th>\n",
              "      <th>content</th>\n",
              "      <th>score</th>\n",
              "      <th>thumbsUpCount</th>\n",
              "      <th>reviewCreatedVersion</th>\n",
              "      <th>at</th>\n",
              "      <th>replyContent</th>\n",
              "      <th>repliedAt</th>\n",
              "    </tr>\n",
              "  </thead>\n",
              "  <tbody>\n",
              "    <tr>\n",
              "      <th>0</th>\n",
              "      <td>d54e20a9-4fea-4670-ac2c-d120ae53dfbf</td>\n",
              "      <td>nana sutisna</td>\n",
              "      <td>https://play-lh.googleusercontent.com/a/AItbvm...</td>\n",
              "      <td>Ok</td>\n",
              "      <td>5</td>\n",
              "      <td>0</td>\n",
              "      <td>None</td>\n",
              "      <td>2022-09-14 02:40:50</td>\n",
              "      <td>Halo,\\n\\nTerima kasih atas dukungan Anda.\\nKam...</td>\n",
              "      <td>2022-09-14 11:47:06</td>\n",
              "    </tr>\n",
              "    <tr>\n",
              "      <th>1</th>\n",
              "      <td>96e760cc-a34f-42c3-89fe-48ad5b623c87</td>\n",
              "      <td>ekaa septhys</td>\n",
              "      <td>https://play-lh.googleusercontent.com/a-/AFdZu...</td>\n",
              "      <td>Kenapa versi terbaru sulit sekali terbuka</td>\n",
              "      <td>3</td>\n",
              "      <td>0</td>\n",
              "      <td>4.5.4</td>\n",
              "      <td>2022-09-14 02:36:45</td>\n",
              "      <td>Halo, Kami mohon maaf atas ketidaknyamanan And...</td>\n",
              "      <td>2022-09-14 11:45:54</td>\n",
              "    </tr>\n",
              "  </tbody>\n",
              "</table>\n",
              "</div>\n",
              "      <button class=\"colab-df-convert\" onclick=\"convertToInteractive('df-73abcf74-44a1-4676-b836-0defa1f77fe4')\"\n",
              "              title=\"Convert this dataframe to an interactive table.\"\n",
              "              style=\"display:none;\">\n",
              "        \n",
              "  <svg xmlns=\"http://www.w3.org/2000/svg\" height=\"24px\"viewBox=\"0 0 24 24\"\n",
              "       width=\"24px\">\n",
              "    <path d=\"M0 0h24v24H0V0z\" fill=\"none\"/>\n",
              "    <path d=\"M18.56 5.44l.94 2.06.94-2.06 2.06-.94-2.06-.94-.94-2.06-.94 2.06-2.06.94zm-11 1L8.5 8.5l.94-2.06 2.06-.94-2.06-.94L8.5 2.5l-.94 2.06-2.06.94zm10 10l.94 2.06.94-2.06 2.06-.94-2.06-.94-.94-2.06-.94 2.06-2.06.94z\"/><path d=\"M17.41 7.96l-1.37-1.37c-.4-.4-.92-.59-1.43-.59-.52 0-1.04.2-1.43.59L10.3 9.45l-7.72 7.72c-.78.78-.78 2.05 0 2.83L4 21.41c.39.39.9.59 1.41.59.51 0 1.02-.2 1.41-.59l7.78-7.78 2.81-2.81c.8-.78.8-2.07 0-2.86zM5.41 20L4 18.59l7.72-7.72 1.47 1.35L5.41 20z\"/>\n",
              "  </svg>\n",
              "      </button>\n",
              "      \n",
              "  <style>\n",
              "    .colab-df-container {\n",
              "      display:flex;\n",
              "      flex-wrap:wrap;\n",
              "      gap: 12px;\n",
              "    }\n",
              "\n",
              "    .colab-df-convert {\n",
              "      background-color: #E8F0FE;\n",
              "      border: none;\n",
              "      border-radius: 50%;\n",
              "      cursor: pointer;\n",
              "      display: none;\n",
              "      fill: #1967D2;\n",
              "      height: 32px;\n",
              "      padding: 0 0 0 0;\n",
              "      width: 32px;\n",
              "    }\n",
              "\n",
              "    .colab-df-convert:hover {\n",
              "      background-color: #E2EBFA;\n",
              "      box-shadow: 0px 1px 2px rgba(60, 64, 67, 0.3), 0px 1px 3px 1px rgba(60, 64, 67, 0.15);\n",
              "      fill: #174EA6;\n",
              "    }\n",
              "\n",
              "    [theme=dark] .colab-df-convert {\n",
              "      background-color: #3B4455;\n",
              "      fill: #D2E3FC;\n",
              "    }\n",
              "\n",
              "    [theme=dark] .colab-df-convert:hover {\n",
              "      background-color: #434B5C;\n",
              "      box-shadow: 0px 1px 3px 1px rgba(0, 0, 0, 0.15);\n",
              "      filter: drop-shadow(0px 1px 2px rgba(0, 0, 0, 0.3));\n",
              "      fill: #FFFFFF;\n",
              "    }\n",
              "  </style>\n",
              "\n",
              "      <script>\n",
              "        const buttonEl =\n",
              "          document.querySelector('#df-73abcf74-44a1-4676-b836-0defa1f77fe4 button.colab-df-convert');\n",
              "        buttonEl.style.display =\n",
              "          google.colab.kernel.accessAllowed ? 'block' : 'none';\n",
              "\n",
              "        async function convertToInteractive(key) {\n",
              "          const element = document.querySelector('#df-73abcf74-44a1-4676-b836-0defa1f77fe4');\n",
              "          const dataTable =\n",
              "            await google.colab.kernel.invokeFunction('convertToInteractive',\n",
              "                                                     [key], {});\n",
              "          if (!dataTable) return;\n",
              "\n",
              "          const docLinkHtml = 'Like what you see? Visit the ' +\n",
              "            '<a target=\"_blank\" href=https://colab.research.google.com/notebooks/data_table.ipynb>data table notebook</a>'\n",
              "            + ' to learn more about interactive tables.';\n",
              "          element.innerHTML = '';\n",
              "          dataTable['output_type'] = 'display_data';\n",
              "          await google.colab.output.renderOutput(dataTable, element);\n",
              "          const docLink = document.createElement('div');\n",
              "          docLink.innerHTML = docLinkHtml;\n",
              "          element.appendChild(docLink);\n",
              "        }\n",
              "      </script>\n",
              "    </div>\n",
              "  </div>\n",
              "  "
            ]
          },
          "metadata": {},
          "execution_count": 188
        }
      ]
    },
    {
      "cell_type": "code",
      "source": [
        "# ambil kolom yg dipakai\n",
        "df_pl = df_pl[['userName', 'content', 'score', 'at']]\n",
        "df_pl.head(2)"
      ],
      "metadata": {
        "colab": {
          "base_uri": "https://localhost:8080/",
          "height": 112
        },
        "id": "mZh-ksNSIlGn",
        "outputId": "616b53ad-2bad-468b-9c9c-0abea0f3895d"
      },
      "execution_count": null,
      "outputs": [
        {
          "output_type": "execute_result",
          "data": {
            "text/plain": [
              "       userName                                    content  score  \\\n",
              "0  nana sutisna                                         Ok      5   \n",
              "1  ekaa septhys  Kenapa versi terbaru sulit sekali terbuka      3   \n",
              "\n",
              "                   at  \n",
              "0 2022-09-14 02:40:50  \n",
              "1 2022-09-14 02:36:45  "
            ],
            "text/html": [
              "\n",
              "  <div id=\"df-d01a68ab-5909-4bb1-ae27-f8ee0214a4f3\">\n",
              "    <div class=\"colab-df-container\">\n",
              "      <div>\n",
              "<style scoped>\n",
              "    .dataframe tbody tr th:only-of-type {\n",
              "        vertical-align: middle;\n",
              "    }\n",
              "\n",
              "    .dataframe tbody tr th {\n",
              "        vertical-align: top;\n",
              "    }\n",
              "\n",
              "    .dataframe thead th {\n",
              "        text-align: right;\n",
              "    }\n",
              "</style>\n",
              "<table border=\"1\" class=\"dataframe\">\n",
              "  <thead>\n",
              "    <tr style=\"text-align: right;\">\n",
              "      <th></th>\n",
              "      <th>userName</th>\n",
              "      <th>content</th>\n",
              "      <th>score</th>\n",
              "      <th>at</th>\n",
              "    </tr>\n",
              "  </thead>\n",
              "  <tbody>\n",
              "    <tr>\n",
              "      <th>0</th>\n",
              "      <td>nana sutisna</td>\n",
              "      <td>Ok</td>\n",
              "      <td>5</td>\n",
              "      <td>2022-09-14 02:40:50</td>\n",
              "    </tr>\n",
              "    <tr>\n",
              "      <th>1</th>\n",
              "      <td>ekaa septhys</td>\n",
              "      <td>Kenapa versi terbaru sulit sekali terbuka</td>\n",
              "      <td>3</td>\n",
              "      <td>2022-09-14 02:36:45</td>\n",
              "    </tr>\n",
              "  </tbody>\n",
              "</table>\n",
              "</div>\n",
              "      <button class=\"colab-df-convert\" onclick=\"convertToInteractive('df-d01a68ab-5909-4bb1-ae27-f8ee0214a4f3')\"\n",
              "              title=\"Convert this dataframe to an interactive table.\"\n",
              "              style=\"display:none;\">\n",
              "        \n",
              "  <svg xmlns=\"http://www.w3.org/2000/svg\" height=\"24px\"viewBox=\"0 0 24 24\"\n",
              "       width=\"24px\">\n",
              "    <path d=\"M0 0h24v24H0V0z\" fill=\"none\"/>\n",
              "    <path d=\"M18.56 5.44l.94 2.06.94-2.06 2.06-.94-2.06-.94-.94-2.06-.94 2.06-2.06.94zm-11 1L8.5 8.5l.94-2.06 2.06-.94-2.06-.94L8.5 2.5l-.94 2.06-2.06.94zm10 10l.94 2.06.94-2.06 2.06-.94-2.06-.94-.94-2.06-.94 2.06-2.06.94z\"/><path d=\"M17.41 7.96l-1.37-1.37c-.4-.4-.92-.59-1.43-.59-.52 0-1.04.2-1.43.59L10.3 9.45l-7.72 7.72c-.78.78-.78 2.05 0 2.83L4 21.41c.39.39.9.59 1.41.59.51 0 1.02-.2 1.41-.59l7.78-7.78 2.81-2.81c.8-.78.8-2.07 0-2.86zM5.41 20L4 18.59l7.72-7.72 1.47 1.35L5.41 20z\"/>\n",
              "  </svg>\n",
              "      </button>\n",
              "      \n",
              "  <style>\n",
              "    .colab-df-container {\n",
              "      display:flex;\n",
              "      flex-wrap:wrap;\n",
              "      gap: 12px;\n",
              "    }\n",
              "\n",
              "    .colab-df-convert {\n",
              "      background-color: #E8F0FE;\n",
              "      border: none;\n",
              "      border-radius: 50%;\n",
              "      cursor: pointer;\n",
              "      display: none;\n",
              "      fill: #1967D2;\n",
              "      height: 32px;\n",
              "      padding: 0 0 0 0;\n",
              "      width: 32px;\n",
              "    }\n",
              "\n",
              "    .colab-df-convert:hover {\n",
              "      background-color: #E2EBFA;\n",
              "      box-shadow: 0px 1px 2px rgba(60, 64, 67, 0.3), 0px 1px 3px 1px rgba(60, 64, 67, 0.15);\n",
              "      fill: #174EA6;\n",
              "    }\n",
              "\n",
              "    [theme=dark] .colab-df-convert {\n",
              "      background-color: #3B4455;\n",
              "      fill: #D2E3FC;\n",
              "    }\n",
              "\n",
              "    [theme=dark] .colab-df-convert:hover {\n",
              "      background-color: #434B5C;\n",
              "      box-shadow: 0px 1px 3px 1px rgba(0, 0, 0, 0.15);\n",
              "      filter: drop-shadow(0px 1px 2px rgba(0, 0, 0, 0.3));\n",
              "      fill: #FFFFFF;\n",
              "    }\n",
              "  </style>\n",
              "\n",
              "      <script>\n",
              "        const buttonEl =\n",
              "          document.querySelector('#df-d01a68ab-5909-4bb1-ae27-f8ee0214a4f3 button.colab-df-convert');\n",
              "        buttonEl.style.display =\n",
              "          google.colab.kernel.accessAllowed ? 'block' : 'none';\n",
              "\n",
              "        async function convertToInteractive(key) {\n",
              "          const element = document.querySelector('#df-d01a68ab-5909-4bb1-ae27-f8ee0214a4f3');\n",
              "          const dataTable =\n",
              "            await google.colab.kernel.invokeFunction('convertToInteractive',\n",
              "                                                     [key], {});\n",
              "          if (!dataTable) return;\n",
              "\n",
              "          const docLinkHtml = 'Like what you see? Visit the ' +\n",
              "            '<a target=\"_blank\" href=https://colab.research.google.com/notebooks/data_table.ipynb>data table notebook</a>'\n",
              "            + ' to learn more about interactive tables.';\n",
              "          element.innerHTML = '';\n",
              "          dataTable['output_type'] = 'display_data';\n",
              "          await google.colab.output.renderOutput(dataTable, element);\n",
              "          const docLink = document.createElement('div');\n",
              "          docLink.innerHTML = docLinkHtml;\n",
              "          element.appendChild(docLink);\n",
              "        }\n",
              "      </script>\n",
              "    </div>\n",
              "  </div>\n",
              "  "
            ]
          },
          "metadata": {},
          "execution_count": 189
        }
      ]
    },
    {
      "cell_type": "code",
      "source": [
        "# melihat adakah data kosong\n",
        "df_pl.isna().sum()"
      ],
      "metadata": {
        "colab": {
          "base_uri": "https://localhost:8080/"
        },
        "id": "tMYTxk5lcJJ2",
        "outputId": "550d967c-00b9-46f2-90f0-f9b4821b5d5d"
      },
      "execution_count": null,
      "outputs": [
        {
          "output_type": "execute_result",
          "data": {
            "text/plain": [
              "userName    0\n",
              "content     0\n",
              "score       0\n",
              "at          0\n",
              "dtype: int64"
            ]
          },
          "metadata": {},
          "execution_count": 190
        }
      ]
    },
    {
      "cell_type": "code",
      "source": [
        "# menghitung jumlah value di column score\n",
        "df_pl.score.value_counts()"
      ],
      "metadata": {
        "colab": {
          "base_uri": "https://localhost:8080/"
        },
        "id": "Pl8_44ihcjp5",
        "outputId": "051a4680-545b-4b26-f9b1-ec43cf5d70bb"
      },
      "execution_count": null,
      "outputs": [
        {
          "output_type": "execute_result",
          "data": {
            "text/plain": [
              "1    135\n",
              "5     33\n",
              "3     13\n",
              "2     11\n",
              "4      8\n",
              "Name: score, dtype: int64"
            ]
          },
          "metadata": {},
          "execution_count": 191
        }
      ]
    },
    {
      "cell_type": "code",
      "source": [
        "# menampilkan dalam chart\n",
        "df_pl.score.value_counts().sort_index().plot(kind='bar')"
      ],
      "metadata": {
        "colab": {
          "base_uri": "https://localhost:8080/",
          "height": 281
        },
        "id": "OBE4aBjrdYGR",
        "outputId": "929b4140-61ee-4107-ad16-4d776294ba42"
      },
      "execution_count": null,
      "outputs": [
        {
          "output_type": "execute_result",
          "data": {
            "text/plain": [
              "<matplotlib.axes._subplots.AxesSubplot at 0x7fd408eb91d0>"
            ]
          },
          "metadata": {},
          "execution_count": 192
        },
        {
          "output_type": "display_data",
          "data": {
            "text/plain": [
              "<Figure size 432x288 with 1 Axes>"
            ],
            "image/png": "[encoded data removed]"
          },
          "metadata": {
            "needs_background": "light"
          }
        }
      ]
    },
    {
      "cell_type": "code",
      "source": [
        "# menggelompokkan score (buruk: 1,2) (bagus: 3,4,5)\n",
        "df_pl['review_score'] = df_pl.score.apply(lambda x: 'bagus' if x>2 else 'buruk') \n",
        "df_pl.head()"
      ],
      "metadata": {
        "colab": {
          "base_uri": "https://localhost:8080/",
          "height": 206
        },
        "id": "_q6hXNJ9dKHx",
        "outputId": "43645b0d-b38b-405a-c60b-5a58582f8000"
      },
      "execution_count": null,
      "outputs": [
        {
          "output_type": "execute_result",
          "data": {
            "text/plain": [
              "        userName                                            content  score  \\\n",
              "0   nana sutisna                                                 Ok      5   \n",
              "1   ekaa septhys          Kenapa versi terbaru sulit sekali terbuka      3   \n",
              "2  Teguh Handoko  Oke banget aplikasinya, memudahkan kita beperg...      5   \n",
              "3         its me  Appsnya harus login terus dan di bersihkan dat...      3   \n",
              "4    RomanusJ 48                                              Bagus      5   \n",
              "\n",
              "                   at review_score  \n",
              "0 2022-09-14 02:40:50        bagus  \n",
              "1 2022-09-14 02:36:45        bagus  \n",
              "2 2022-09-14 02:31:59        bagus  \n",
              "3 2022-09-14 02:31:57        bagus  \n",
              "4 2022-09-14 02:31:55        bagus  "
            ],
            "text/html": [
              "\n",
              "  <div id=\"df-567e9e7b-06c1-45b0-8927-7255e4c5b4de\">\n",
              "    <div class=\"colab-df-container\">\n",
              "      <div>\n",
              "<style scoped>\n",
              "    .dataframe tbody tr th:only-of-type {\n",
              "        vertical-align: middle;\n",
              "    }\n",
              "\n",
              "    .dataframe tbody tr th {\n",
              "        vertical-align: top;\n",
              "    }\n",
              "\n",
              "    .dataframe thead th {\n",
              "        text-align: right;\n",
              "    }\n",
              "</style>\n",
              "<table border=\"1\" class=\"dataframe\">\n",
              "  <thead>\n",
              "    <tr style=\"text-align: right;\">\n",
              "      <th></th>\n",
              "      <th>userName</th>\n",
              "      <th>content</th>\n",
              "      <th>score</th>\n",
              "      <th>at</th>\n",
              "      <th>review_score</th>\n",
              "    </tr>\n",
              "  </thead>\n",
              "  <tbody>\n",
              "    <tr>\n",
              "      <th>0</th>\n",
              "      <td>nana sutisna</td>\n",
              "      <td>Ok</td>\n",
              "      <td>5</td>\n",
              "      <td>2022-09-14 02:40:50</td>\n",
              "      <td>bagus</td>\n",
              "    </tr>\n",
              "    <tr>\n",
              "      <th>1</th>\n",
              "      <td>ekaa septhys</td>\n",
              "      <td>Kenapa versi terbaru sulit sekali terbuka</td>\n",
              "      <td>3</td>\n",
              "      <td>2022-09-14 02:36:45</td>\n",
              "      <td>bagus</td>\n",
              "    </tr>\n",
              "    <tr>\n",
              "      <th>2</th>\n",
              "      <td>Teguh Handoko</td>\n",
              "      <td>Oke banget aplikasinya, memudahkan kita beperg...</td>\n",
              "      <td>5</td>\n",
              "      <td>2022-09-14 02:31:59</td>\n",
              "      <td>bagus</td>\n",
              "    </tr>\n",
              "    <tr>\n",
              "      <th>3</th>\n",
              "      <td>its me</td>\n",
              "      <td>Appsnya harus login terus dan di bersihkan dat...</td>\n",
              "      <td>3</td>\n",
              "      <td>2022-09-14 02:31:57</td>\n",
              "      <td>bagus</td>\n",
              "    </tr>\n",
              "    <tr>\n",
              "      <th>4</th>\n",
              "      <td>RomanusJ 48</td>\n",
              "      <td>Bagus</td>\n",
              "      <td>5</td>\n",
              "      <td>2022-09-14 02:31:55</td>\n",
              "      <td>bagus</td>\n",
              "    </tr>\n",
              "  </tbody>\n",
              "</table>\n",
              "</div>\n",
              "      <button class=\"colab-df-convert\" onclick=\"convertToInteractive('df-567e9e7b-06c1-45b0-8927-7255e4c5b4de')\"\n",
              "              title=\"Convert this dataframe to an interactive table.\"\n",
              "              style=\"display:none;\">\n",
              "        \n",
              "  <svg xmlns=\"http://www.w3.org/2000/svg\" height=\"24px\"viewBox=\"0 0 24 24\"\n",
              "       width=\"24px\">\n",
              "    <path d=\"M0 0h24v24H0V0z\" fill=\"none\"/>\n",
              "    <path d=\"M18.56 5.44l.94 2.06.94-2.06 2.06-.94-2.06-.94-.94-2.06-.94 2.06-2.06.94zm-11 1L8.5 8.5l.94-2.06 2.06-.94-2.06-.94L8.5 2.5l-.94 2.06-2.06.94zm10 10l.94 2.06.94-2.06 2.06-.94-2.06-.94-.94-2.06-.94 2.06-2.06.94z\"/><path d=\"M17.41 7.96l-1.37-1.37c-.4-.4-.92-.59-1.43-.59-.52 0-1.04.2-1.43.59L10.3 9.45l-7.72 7.72c-.78.78-.78 2.05 0 2.83L4 21.41c.39.39.9.59 1.41.59.51 0 1.02-.2 1.41-.59l7.78-7.78 2.81-2.81c.8-.78.8-2.07 0-2.86zM5.41 20L4 18.59l7.72-7.72 1.47 1.35L5.41 20z\"/>\n",
              "  </svg>\n",
              "      </button>\n",
              "      \n",
              "  <style>\n",
              "    .colab-df-container {\n",
              "      display:flex;\n",
              "      flex-wrap:wrap;\n",
              "      gap: 12px;\n",
              "    }\n",
              "\n",
              "    .colab-df-convert {\n",
              "      background-color: #E8F0FE;\n",
              "      border: none;\n",
              "      border-radius: 50%;\n",
              "      cursor: pointer;\n",
              "      display: none;\n",
              "      fill: #1967D2;\n",
              "      height: 32px;\n",
              "      padding: 0 0 0 0;\n",
              "      width: 32px;\n",
              "    }\n",
              "\n",
              "    .colab-df-convert:hover {\n",
              "      background-color: #E2EBFA;\n",
              "      box-shadow: 0px 1px 2px rgba(60, 64, 67, 0.3), 0px 1px 3px 1px rgba(60, 64, 67, 0.15);\n",
              "      fill: #174EA6;\n",
              "    }\n",
              "\n",
              "    [theme=dark] .colab-df-convert {\n",
              "      background-color: #3B4455;\n",
              "      fill: #D2E3FC;\n",
              "    }\n",
              "\n",
              "    [theme=dark] .colab-df-convert:hover {\n",
              "      background-color: #434B5C;\n",
              "      box-shadow: 0px 1px 3px 1px rgba(0, 0, 0, 0.15);\n",
              "      filter: drop-shadow(0px 1px 2px rgba(0, 0, 0, 0.3));\n",
              "      fill: #FFFFFF;\n",
              "    }\n",
              "  </style>\n",
              "\n",
              "      <script>\n",
              "        const buttonEl =\n",
              "          document.querySelector('#df-567e9e7b-06c1-45b0-8927-7255e4c5b4de button.colab-df-convert');\n",
              "        buttonEl.style.display =\n",
              "          google.colab.kernel.accessAllowed ? 'block' : 'none';\n",
              "\n",
              "        async function convertToInteractive(key) {\n",
              "          const element = document.querySelector('#df-567e9e7b-06c1-45b0-8927-7255e4c5b4de');\n",
              "          const dataTable =\n",
              "            await google.colab.kernel.invokeFunction('convertToInteractive',\n",
              "                                                     [key], {});\n",
              "          if (!dataTable) return;\n",
              "\n",
              "          const docLinkHtml = 'Like what you see? Visit the ' +\n",
              "            '<a target=\"_blank\" href=https://colab.research.google.com/notebooks/data_table.ipynb>data table notebook</a>'\n",
              "            + ' to learn more about interactive tables.';\n",
              "          element.innerHTML = '';\n",
              "          dataTable['output_type'] = 'display_data';\n",
              "          await google.colab.output.renderOutput(dataTable, element);\n",
              "          const docLink = document.createElement('div');\n",
              "          docLink.innerHTML = docLinkHtml;\n",
              "          element.appendChild(docLink);\n",
              "        }\n",
              "      </script>\n",
              "    </div>\n",
              "  </div>\n",
              "  "
            ]
          },
          "metadata": {},
          "execution_count": 193
        }
      ]
    },
    {
      "cell_type": "code",
      "source": [
        "df_pl.review_score.value_counts()"
      ],
      "metadata": {
        "colab": {
          "base_uri": "https://localhost:8080/"
        },
        "id": "FXCX35p2Eq5A",
        "outputId": "032eb401-f841-4f83-d69e-d4860e8f0725"
      },
      "execution_count": null,
      "outputs": [
        {
          "output_type": "execute_result",
          "data": {
            "text/plain": [
              "buruk    146\n",
              "bagus     54\n",
              "Name: review_score, dtype: int64"
            ]
          },
          "metadata": {},
          "execution_count": 199
        }
      ]
    },
    {
      "cell_type": "markdown",
      "source": [
        "## preprocesing"
      ],
      "metadata": {
        "id": "RE21qCMO2T3L"
      }
    },
    {
      "cell_type": "code",
      "source": [
        "import re\n",
        "from nltk.corpus import stopwords\n",
        "from nltk.tokenize import word_tokenize\n",
        "from Sastrawi.Stemmer.StemmerFactory import StemmerFactory"
      ],
      "metadata": {
        "id": "bGTbSrKJ4NgP"
      },
      "execution_count": null,
      "outputs": []
    },
    {
      "cell_type": "code",
      "source": [
        "def prep(text):\n",
        "    stop_nltk = stopwords.words('indonesian')\n",
        "\n",
        "    text = text.lower()\n",
        "    text = ' '.join(re.findall(r'[a-zA-Z]+', text))\n",
        "    text = word_tokenize(text)\n",
        "    text = ' '.join([word for word in text if word not in stop_nltk])\n",
        "    text = StemmerFactory().create_stemmer().stem(text)\n",
        "    return text"
      ],
      "metadata": {
        "id": "p7kF2zW99gFE"
      },
      "execution_count": null,
      "outputs": []
    },
    {
      "cell_type": "code",
      "source": [
        "df_pl.content[3]"
      ],
      "metadata": {
        "colab": {
          "base_uri": "https://localhost:8080/",
          "height": 36
        },
        "id": "W-twkPdaAZUL",
        "outputId": "20994a82-21ec-42dc-ca4e-6063d100be23"
      },
      "execution_count": null,
      "outputs": [
        {
          "output_type": "execute_result",
          "data": {
            "text/plain": [
              "'Appsnya harus login terus dan di bersihkan data baru bisa login kembali'"
            ],
            "application/vnd.google.colaboratory.intrinsic+json": {
              "type": "string"
            }
          },
          "metadata": {},
          "execution_count": 250
        }
      ]
    },
    {
      "cell_type": "code",
      "source": [
        "prep(df_pl.content[3])"
      ],
      "metadata": {
        "colab": {
          "base_uri": "https://localhost:8080/",
          "height": 36
        },
        "id": "_IUnb2ET6QmU",
        "outputId": "9c1feaaa-ce9d-46cb-c175-f390249a5cb8"
      },
      "execution_count": null,
      "outputs": [
        {
          "output_type": "execute_result",
          "data": {
            "text/plain": [
              "'appsnya login sih data login'"
            ],
            "application/vnd.google.colaboratory.intrinsic+json": {
              "type": "string"
            }
          },
          "metadata": {},
          "execution_count": 251
        }
      ]
    },
    {
      "cell_type": "code",
      "source": [
        "df_pl['content_prep'] = df_pl.content.apply(lambda x: prep(x))\n",
        "df_pl.head()"
      ],
      "metadata": {
        "colab": {
          "base_uri": "https://localhost:8080/",
          "height": 206
        },
        "id": "C1B9MZsx6m7E",
        "outputId": "7a8aef0a-0e81-439a-bd34-b7ed4de3b5dc"
      },
      "execution_count": null,
      "outputs": [
        {
          "output_type": "execute_result",
          "data": {
            "text/plain": [
              "        userName                                            content  score  \\\n",
              "0   nana sutisna                                                 Ok      5   \n",
              "1   ekaa septhys          Kenapa versi terbaru sulit sekali terbuka      3   \n",
              "2  Teguh Handoko  Oke banget aplikasinya, memudahkan kita beperg...      5   \n",
              "3         its me  Appsnya harus login terus dan di bersihkan dat...      3   \n",
              "4    RomanusJ 48                                              Bagus      5   \n",
              "\n",
              "                   at review_score  \\\n",
              "0 2022-09-14 02:40:50        bagus   \n",
              "1 2022-09-14 02:36:45        bagus   \n",
              "2 2022-09-14 02:31:59        bagus   \n",
              "3 2022-09-14 02:31:57        bagus   \n",
              "4 2022-09-14 02:31:55        bagus   \n",
              "\n",
              "                                   content_prep  \n",
              "0                                            ok  \n",
              "1                         versi baru sulit buka  \n",
              "2  oke banget aplikasi mudah pergi beraktifitas  \n",
              "3                  appsnya login sih data login  \n",
              "4                                         bagus  "
            ],
            "text/html": [
              "\n",
              "  <div id=\"df-36eea1f4-56b3-4307-a0b8-522638ba2f9e\">\n",
              "    <div class=\"colab-df-container\">\n",
              "      <div>\n",
              "<style scoped>\n",
              "    .dataframe tbody tr th:only-of-type {\n",
              "        vertical-align: middle;\n",
              "    }\n",
              "\n",
              "    .dataframe tbody tr th {\n",
              "        vertical-align: top;\n",
              "    }\n",
              "\n",
              "    .dataframe thead th {\n",
              "        text-align: right;\n",
              "    }\n",
              "</style>\n",
              "<table border=\"1\" class=\"dataframe\">\n",
              "  <thead>\n",
              "    <tr style=\"text-align: right;\">\n",
              "      <th></th>\n",
              "      <th>userName</th>\n",
              "      <th>content</th>\n",
              "      <th>score</th>\n",
              "      <th>at</th>\n",
              "      <th>review_score</th>\n",
              "      <th>content_prep</th>\n",
              "    </tr>\n",
              "  </thead>\n",
              "  <tbody>\n",
              "    <tr>\n",
              "      <th>0</th>\n",
              "      <td>nana sutisna</td>\n",
              "      <td>Ok</td>\n",
              "      <td>5</td>\n",
              "      <td>2022-09-14 02:40:50</td>\n",
              "      <td>bagus</td>\n",
              "      <td>ok</td>\n",
              "    </tr>\n",
              "    <tr>\n",
              "      <th>1</th>\n",
              "      <td>ekaa septhys</td>\n",
              "      <td>Kenapa versi terbaru sulit sekali terbuka</td>\n",
              "      <td>3</td>\n",
              "      <td>2022-09-14 02:36:45</td>\n",
              "      <td>bagus</td>\n",
              "      <td>versi baru sulit buka</td>\n",
              "    </tr>\n",
              "    <tr>\n",
              "      <th>2</th>\n",
              "      <td>Teguh Handoko</td>\n",
              "      <td>Oke banget aplikasinya, memudahkan kita beperg...</td>\n",
              "      <td>5</td>\n",
              "      <td>2022-09-14 02:31:59</td>\n",
              "      <td>bagus</td>\n",
              "      <td>oke banget aplikasi mudah pergi beraktifitas</td>\n",
              "    </tr>\n",
              "    <tr>\n",
              "      <th>3</th>\n",
              "      <td>its me</td>\n",
              "      <td>Appsnya harus login terus dan di bersihkan dat...</td>\n",
              "      <td>3</td>\n",
              "      <td>2022-09-14 02:31:57</td>\n",
              "      <td>bagus</td>\n",
              "      <td>appsnya login sih data login</td>\n",
              "    </tr>\n",
              "    <tr>\n",
              "      <th>4</th>\n",
              "      <td>RomanusJ 48</td>\n",
              "      <td>Bagus</td>\n",
              "      <td>5</td>\n",
              "      <td>2022-09-14 02:31:55</td>\n",
              "      <td>bagus</td>\n",
              "      <td>bagus</td>\n",
              "    </tr>\n",
              "  </tbody>\n",
              "</table>\n",
              "</div>\n",
              "      <button class=\"colab-df-convert\" onclick=\"convertToInteractive('df-36eea1f4-56b3-4307-a0b8-522638ba2f9e')\"\n",
              "              title=\"Convert this dataframe to an interactive table.\"\n",
              "              style=\"display:none;\">\n",
              "        \n",
              "  <svg xmlns=\"http://www.w3.org/2000/svg\" height=\"24px\"viewBox=\"0 0 24 24\"\n",
              "       width=\"24px\">\n",
              "    <path d=\"M0 0h24v24H0V0z\" fill=\"none\"/>\n",
              "    <path d=\"M18.56 5.44l.94 2.06.94-2.06 2.06-.94-2.06-.94-.94-2.06-.94 2.06-2.06.94zm-11 1L8.5 8.5l.94-2.06 2.06-.94-2.06-.94L8.5 2.5l-.94 2.06-2.06.94zm10 10l.94 2.06.94-2.06 2.06-.94-2.06-.94-.94-2.06-.94 2.06-2.06.94z\"/><path d=\"M17.41 7.96l-1.37-1.37c-.4-.4-.92-.59-1.43-.59-.52 0-1.04.2-1.43.59L10.3 9.45l-7.72 7.72c-.78.78-.78 2.05 0 2.83L4 21.41c.39.39.9.59 1.41.59.51 0 1.02-.2 1.41-.59l7.78-7.78 2.81-2.81c.8-.78.8-2.07 0-2.86zM5.41 20L4 18.59l7.72-7.72 1.47 1.35L5.41 20z\"/>\n",
              "  </svg>\n",
              "      </button>\n",
              "      \n",
              "  <style>\n",
              "    .colab-df-container {\n",
              "      display:flex;\n",
              "      flex-wrap:wrap;\n",
              "      gap: 12px;\n",
              "    }\n",
              "\n",
              "    .colab-df-convert {\n",
              "      background-color: #E8F0FE;\n",
              "      border: none;\n",
              "      border-radius: 50%;\n",
              "      cursor: pointer;\n",
              "      display: none;\n",
              "      fill: #1967D2;\n",
              "      height: 32px;\n",
              "      padding: 0 0 0 0;\n",
              "      width: 32px;\n",
              "    }\n",
              "\n",
              "    .colab-df-convert:hover {\n",
              "      background-color: #E2EBFA;\n",
              "      box-shadow: 0px 1px 2px rgba(60, 64, 67, 0.3), 0px 1px 3px 1px rgba(60, 64, 67, 0.15);\n",
              "      fill: #174EA6;\n",
              "    }\n",
              "\n",
              "    [theme=dark] .colab-df-convert {\n",
              "      background-color: #3B4455;\n",
              "      fill: #D2E3FC;\n",
              "    }\n",
              "\n",
              "    [theme=dark] .colab-df-convert:hover {\n",
              "      background-color: #434B5C;\n",
              "      box-shadow: 0px 1px 3px 1px rgba(0, 0, 0, 0.15);\n",
              "      filter: drop-shadow(0px 1px 2px rgba(0, 0, 0, 0.3));\n",
              "      fill: #FFFFFF;\n",
              "    }\n",
              "  </style>\n",
              "\n",
              "      <script>\n",
              "        const buttonEl =\n",
              "          document.querySelector('#df-36eea1f4-56b3-4307-a0b8-522638ba2f9e button.colab-df-convert');\n",
              "        buttonEl.style.display =\n",
              "          google.colab.kernel.accessAllowed ? 'block' : 'none';\n",
              "\n",
              "        async function convertToInteractive(key) {\n",
              "          const element = document.querySelector('#df-36eea1f4-56b3-4307-a0b8-522638ba2f9e');\n",
              "          const dataTable =\n",
              "            await google.colab.kernel.invokeFunction('convertToInteractive',\n",
              "                                                     [key], {});\n",
              "          if (!dataTable) return;\n",
              "\n",
              "          const docLinkHtml = 'Like what you see? Visit the ' +\n",
              "            '<a target=\"_blank\" href=https://colab.research.google.com/notebooks/data_table.ipynb>data table notebook</a>'\n",
              "            + ' to learn more about interactive tables.';\n",
              "          element.innerHTML = '';\n",
              "          dataTable['output_type'] = 'display_data';\n",
              "          await google.colab.output.renderOutput(dataTable, element);\n",
              "          const docLink = document.createElement('div');\n",
              "          docLink.innerHTML = docLinkHtml;\n",
              "          element.appendChild(docLink);\n",
              "        }\n",
              "      </script>\n",
              "    </div>\n",
              "  </div>\n",
              "  "
            ]
          },
          "metadata": {},
          "execution_count": 198
        }
      ]
    },
    {
      "cell_type": "code",
      "source": [
        "df_pl.isna().sum()"
      ],
      "metadata": {
        "colab": {
          "base_uri": "https://localhost:8080/"
        },
        "id": "oeQTIe-rHqB6",
        "outputId": "b95ee146-78ed-4777-810b-0764ba2dd760"
      },
      "execution_count": null,
      "outputs": [
        {
          "output_type": "execute_result",
          "data": {
            "text/plain": [
              "userName        0\n",
              "content         0\n",
              "score           0\n",
              "at              0\n",
              "review_score    0\n",
              "content_prep    0\n",
              "dtype: int64"
            ]
          },
          "metadata": {},
          "execution_count": 205
        }
      ]
    },
    {
      "cell_type": "markdown",
      "source": [
        "## visualisasi"
      ],
      "metadata": {
        "id": "koxTaYHfENPc"
      }
    },
    {
      "cell_type": "code",
      "source": [
        "from nltk.probability import FreqDist\n",
        "from wordcloud import WordCloud\n",
        "import matplotlib.pyplot as plt"
      ],
      "metadata": {
        "id": "tNMnArimAxB1"
      },
      "execution_count": null,
      "outputs": []
    },
    {
      "cell_type": "markdown",
      "source": [
        "### review bagus"
      ],
      "metadata": {
        "id": "kPYbb8WuK6Wn"
      }
    },
    {
      "cell_type": "code",
      "source": [
        "# review_score bagus\n",
        "df_bagus = df_pl.loc[df_pl.review_score == 'bagus']\n",
        "df_bagus.shape"
      ],
      "metadata": {
        "colab": {
          "base_uri": "https://localhost:8080/"
        },
        "id": "6j6EJaFHESHl",
        "outputId": "bd1f9976-2ecb-4e64-e159-d3c36b053089"
      },
      "execution_count": null,
      "outputs": [
        {
          "output_type": "execute_result",
          "data": {
            "text/plain": [
              "(54, 6)"
            ]
          },
          "metadata": {},
          "execution_count": 200
        }
      ]
    },
    {
      "cell_type": "code",
      "source": [
        "df_bagus.content_prep = df_bagus.content_prep.apply(lambda x: word_tokenize(str(x)))\n",
        "review_bagus = [word for review in df_bagus.content_prep for word in review]"
      ],
      "metadata": {
        "colab": {
          "base_uri": "https://localhost:8080/"
        },
        "id": "PTU7cpZKEy2N",
        "outputId": "f5f6919d-fd07-4c4d-dba4-601e988a6e15"
      },
      "execution_count": null,
      "outputs": [
        {
          "output_type": "stream",
          "name": "stderr",
          "text": [
            "/usr/local/lib/python3.7/dist-packages/pandas/core/generic.py:5516: SettingWithCopyWarning: \n",
            "A value is trying to be set on a copy of a slice from a DataFrame.\n",
            "Try using .loc[row_indexer,col_indexer] = value instead\n",
            "\n",
            "See the caveats in the documentation: https://pandas.pydata.org/pandas-docs/stable/user_guide/indexing.html#returning-a-view-versus-a-copy\n",
            "  self[name] = value\n"
          ]
        }
      ]
    },
    {
      "cell_type": "code",
      "source": [
        "freq_bagus = FreqDist(review_bagus)\n",
        "freq_bagus"
      ],
      "metadata": {
        "colab": {
          "base_uri": "https://localhost:8080/"
        },
        "id": "8F5yZLZOHFOd",
        "outputId": "0fb462aa-6f8e-4009-b84e-b16805d1d933"
      },
      "execution_count": null,
      "outputs": [
        {
          "output_type": "execute_result",
          "data": {
            "text/plain": [
              "FreqDist({'aplikasi': 11, 'login': 11, 'masuk': 11, 'update': 8, 'bagus': 7, 'bantu': 7, 'susah': 6, 'salah': 6, 'buka': 5, 'nya': 5, ...})"
            ]
          },
          "metadata": {},
          "execution_count": 211
        }
      ]
    },
    {
      "cell_type": "code",
      "source": [
        "wcloud_bagus = WordCloud().generate_from_frequencies(freq_bagus)\n",
        " \n",
        "# Plotting the wordcloud\n",
        "plt.imshow(wcloud_bagus)\n",
        "plt.show()"
      ],
      "metadata": {
        "colab": {
          "base_uri": "https://localhost:8080/",
          "height": 219
        },
        "id": "CCiES5NnI1vm",
        "outputId": "5f531e74-7f25-430d-b43a-606851aa3c6c"
      },
      "execution_count": null,
      "outputs": [
        {
          "output_type": "display_data",
          "data": {
            "text/plain": [
              "<Figure size 432x288 with 1 Axes>"
            ],
            "image/png": "[encoded data removed]"
          },
          "metadata": {
            "needs_background": "light"
          }
        }
      ]
    },
    {
      "cell_type": "code",
      "source": [
        "freq_bagus_20 = freq_bagus.most_common(20)\n",
        "df_freq_bagus_20 = pd.Series(dict(freq_bagus_20))\n",
        "df_freq_bagus_20.plot(kind='barh')"
      ],
      "metadata": {
        "colab": {
          "base_uri": "https://localhost:8080/",
          "height": 283
        },
        "id": "O8VWTp9pJ6kn",
        "outputId": "3ba1b3ac-6ad0-4d0d-8a59-94179a40f720"
      },
      "execution_count": null,
      "outputs": [
        {
          "output_type": "execute_result",
          "data": {
            "text/plain": [
              "<matplotlib.axes._subplots.AxesSubplot at 0x7fd408d60390>"
            ]
          },
          "metadata": {},
          "execution_count": 216
        },
        {
          "output_type": "display_data",
          "data": {
            "text/plain": [
              "<Figure size 432x288 with 1 Axes>"
            ],
            "image/png": "[encoded data removed]"
          },
          "metadata": {
            "needs_background": "light"
          }
        }
      ]
    },
    {
      "cell_type": "code",
      "source": [],
      "metadata": {
        "id": "4nw_O08xKjpT"
      },
      "execution_count": null,
      "outputs": []
    },
    {
      "cell_type": "markdown",
      "source": [
        "### review buruk"
      ],
      "metadata": {
        "id": "DSNQB_LuLFit"
      }
    },
    {
      "cell_type": "code",
      "source": [
        "# review_score buruk\n",
        "df_buruk = df_pl.loc[df_pl.review_score == 'buruk']\n",
        "df_buruk.shape"
      ],
      "metadata": {
        "colab": {
          "base_uri": "https://localhost:8080/"
        },
        "id": "pB8f3IpYLVOq",
        "outputId": "c8541338-986c-4b58-aecd-2f437ecd3b44"
      },
      "execution_count": null,
      "outputs": [
        {
          "output_type": "execute_result",
          "data": {
            "text/plain": [
              "(146, 6)"
            ]
          },
          "metadata": {},
          "execution_count": 217
        }
      ]
    },
    {
      "cell_type": "code",
      "source": [
        "df_buruk.content_prep = df_buruk.content_prep.apply(lambda x: word_tokenize(str(x)))\n",
        "review_buruk = [word for review in df_buruk.content_prep for word in review]"
      ],
      "metadata": {
        "colab": {
          "base_uri": "https://localhost:8080/"
        },
        "outputId": "fd14ff78-1c80-4b73-a5f2-a8c6d14f32aa",
        "id": "or5WvfvKLFit"
      },
      "execution_count": null,
      "outputs": [
        {
          "output_type": "stream",
          "name": "stderr",
          "text": [
            "/usr/local/lib/python3.7/dist-packages/pandas/core/generic.py:5516: SettingWithCopyWarning: \n",
            "A value is trying to be set on a copy of a slice from a DataFrame.\n",
            "Try using .loc[row_indexer,col_indexer] = value instead\n",
            "\n",
            "See the caveats in the documentation: https://pandas.pydata.org/pandas-docs/stable/user_guide/indexing.html#returning-a-view-versus-a-copy\n",
            "  self[name] = value\n"
          ]
        }
      ]
    },
    {
      "cell_type": "code",
      "source": [
        "freq_buruk = FreqDist(review_buruk)\n",
        "freq_buruk"
      ],
      "metadata": {
        "colab": {
          "base_uri": "https://localhost:8080/"
        },
        "outputId": "a25dbee1-7b6f-45ac-bd30-dc0bf1903fd5",
        "id": "5OagPzzlLFiu"
      },
      "execution_count": null,
      "outputs": [
        {
          "output_type": "execute_result",
          "data": {
            "text/plain": [
              "FreqDist({'aplikasi': 66, 'login': 44, 'masuk': 31, 'update': 31, 'ga': 26, 'susah': 23, 'buka': 20, 'nya': 17, 'sertifikat': 17, 'aja': 16, ...})"
            ]
          },
          "metadata": {},
          "execution_count": 219
        }
      ]
    },
    {
      "cell_type": "code",
      "source": [
        "wcloud_buruk = WordCloud().generate_from_frequencies(freq_buruk)\n",
        " \n",
        "# Plotting the wordcloud\n",
        "plt.imshow(wcloud_buruk)\n",
        "plt.show()"
      ],
      "metadata": {
        "colab": {
          "base_uri": "https://localhost:8080/",
          "height": 219
        },
        "outputId": "12b678c2-3f91-45c3-c39f-855646acef68",
        "id": "O9WJIVFbLFiu"
      },
      "execution_count": null,
      "outputs": [
        {
          "output_type": "display_data",
          "data": {
            "text/plain": [
              "<Figure size 432x288 with 1 Axes>"
            ],
            "image/png": "[encoded data removed]"
          },
          "metadata": {
            "needs_background": "light"
          }
        }
      ]
    },
    {
      "cell_type": "code",
      "source": [
        "freq_buruk_20 = freq_buruk.most_common(20)\n",
        "df_freq_buruk_20 = pd.Series(dict(freq_buruk_20))\n",
        "df_freq_buruk_20.plot(kind='barh')"
      ],
      "metadata": {
        "colab": {
          "base_uri": "https://localhost:8080/",
          "height": 283
        },
        "outputId": "1af59bc3-a00b-4ca1-f160-38bb018a074d",
        "id": "7EKOQ_l4LFiv"
      },
      "execution_count": null,
      "outputs": [
        {
          "output_type": "execute_result",
          "data": {
            "text/plain": [
              "<matplotlib.axes._subplots.AxesSubplot at 0x7fd406abed50>"
            ]
          },
          "metadata": {},
          "execution_count": 222
        },
        {
          "output_type": "display_data",
          "data": {
            "text/plain": [
              "<Figure size 432x288 with 1 Axes>"
            ],
            "image/png": "[encoded data removed]"
          },
          "metadata": {
            "needs_background": "light"
          }
        }
      ]
    },
    {
      "cell_type": "code",
      "source": [],
      "metadata": {
        "id": "wBSHouBxLbn0"
      },
      "execution_count": null,
      "outputs": []
    }
  ]
}